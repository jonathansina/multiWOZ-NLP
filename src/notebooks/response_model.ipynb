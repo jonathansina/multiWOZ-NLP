{
 "cells": [
  {
   "cell_type": "code",
   "execution_count": null,
   "id": "1c12ff90",
   "metadata": {},
   "outputs": [],
   "source": [
    "import sys\n",
    "sys.path.append(\"..\")\n",
    "\n",
    "import torch\n",
    "from torch.optim import AdamW\n",
    "from transformers import T5Tokenizer\n",
    "from torch.utils.data import DataLoader\n",
    "from transformers import T5ForConditionalGeneration\n",
    "\n",
    "from scripts.global_vars import (\n",
    "    DEVICE, \n",
    "    BATCH_SIZE, \n",
    "    MODEL_NAME,\n",
    "    USE_TRAINED_MODEL,\n",
    "    MAX_LENGTH_ENCODER_RESPONSE, \n",
    "    MAX_LENGTH_DECODER_RESPONSE\n",
    ")\n",
    "\n",
    "from datasets import load_dataset\n",
    "from transformers import get_linear_schedule_with_warmup\n",
    "\n",
    "from scripts.utils import find_zero_percentage\n",
    "from scripts.pytorch.training import train_model\n",
    "from scripts.pytorch.inference import inference_model\n",
    "from scripts.preprocessing.response import ResponseDataset\n"
   ]
  },
  {
   "cell_type": "code",
   "execution_count": 2,
   "id": "b1e016ff",
   "metadata": {},
   "outputs": [],
   "source": [
    "dataset = load_dataset(\"multi_woz_v22\", trust_remote_code=True)\n",
    "\n",
    "train_data = dataset['train']\n",
    "val_data = dataset['validation']"
   ]
  },
  {
   "cell_type": "code",
   "execution_count": 3,
   "id": "81914a27",
   "metadata": {},
   "outputs": [
    {
     "name": "stderr",
     "output_type": "stream",
     "text": [
      "Processing dialogues: 100%|██████████| 8437/8437 [00:03<00:00, 2226.13it/s]\n",
      "Processing dialogues: 100%|██████████| 1000/1000 [00:00<00:00, 2092.06it/s]\n"
     ]
    },
    {
     "name": "stdout",
     "output_type": "stream",
     "text": [
      "RESPONSE IDs shape: torch.Size([256, 64])\n",
      "Response IDs shape: torch.Size([256, 32])\n"
     ]
    }
   ],
   "source": [
    "tokenizer = T5Tokenizer.from_pretrained(\n",
    "    legacy=True,\n",
    "    pretrained_model_name_or_path=MODEL_NAME\n",
    ")\n",
    "\n",
    "train_response_dataset = ResponseDataset(\n",
    "    data=dataset['train'],\n",
    "    tokenizer=tokenizer,\n",
    "    max_output_len=MAX_LENGTH_DECODER_RESPONSE,\n",
    "    max_input_len=MAX_LENGTH_ENCODER_RESPONSE\n",
    ")\n",
    "\n",
    "valid_response_dataset = ResponseDataset(\n",
    "    data=dataset['validation'],\n",
    "    tokenizer=tokenizer,\n",
    "    max_output_len=MAX_LENGTH_DECODER_RESPONSE,\n",
    "    max_input_len=MAX_LENGTH_ENCODER_RESPONSE\n",
    ")\n",
    "\n",
    "train_loader_response = DataLoader(train_response_dataset, batch_size=BATCH_SIZE, shuffle=True)\n",
    "valid_loader_response = DataLoader(valid_response_dataset, batch_size=BATCH_SIZE)\n",
    "\n",
    "batch = next(iter(train_loader_response))\n",
    "print(\"RESPONSE IDs shape:\", batch['encoder_input_ids'].shape)\n",
    "print(\"Response IDs shape:\", batch['decoder_input_ids'].shape)"
   ]
  },
  {
   "cell_type": "code",
   "execution_count": 4,
   "id": "693d6198",
   "metadata": {},
   "outputs": [],
   "source": [
    "train_encoder_zero = find_zero_percentage(train_loader_response, \"encoder_input_ids\", MAX_LENGTH_ENCODER_RESPONSE)\n",
    "train_decoder_zero = find_zero_percentage(train_loader_response, \"decoder_input_ids\", MAX_LENGTH_DECODER_RESPONSE)\n",
    "valid_encoder_zero = find_zero_percentage(valid_loader_response, \"encoder_input_ids\", MAX_LENGTH_ENCODER_RESPONSE)\n",
    "valid_decoder_zero = find_zero_percentage(valid_loader_response, \"decoder_input_ids\", MAX_LENGTH_DECODER_RESPONSE)"
   ]
  },
  {
   "cell_type": "code",
   "execution_count": 5,
   "id": "9920b2b7",
   "metadata": {},
   "outputs": [
    {
     "name": "stdout",
     "output_type": "stream",
     "text": [
      "Train Encoder Zero Percentage: 24.295009672641754 \n",
      "Train Decoder Zero Percentage: 35.385385155677795 \n",
      "Valid Encoder Zero Percentage: 23.39279055595398 \n",
      "Valid Decoder Zero Percentage: 34.25803482532501\n"
     ]
    }
   ],
   "source": [
    "print(\n",
    "    \"Train Encoder Zero Percentage:\", train_encoder_zero * 100,\n",
    "    \"\\nTrain Decoder Zero Percentage:\", train_decoder_zero * 100,\n",
    "    \"\\nValid Encoder Zero Percentage:\", valid_encoder_zero * 100,\n",
    "    \"\\nValid Decoder Zero Percentage:\", valid_decoder_zero * 100\n",
    ")"
   ]
  },
  {
   "cell_type": "code",
   "execution_count": 6,
   "id": "c8b4192f",
   "metadata": {},
   "outputs": [],
   "source": [
    "num_epochs = 10\n",
    "num_training_steps = len(train_loader_response) * num_epochs\n",
    "num_warmup_steps = num_training_steps // 10\n",
    "\n",
    "response_model = T5ForConditionalGeneration.from_pretrained(\n",
    "    pretrained_model_name_or_path=MODEL_NAME\n",
    ").to(DEVICE)\n",
    "\n",
    "optimizer = AdamW(\n",
    "    response_model.parameters(),\n",
    "    lr=5e-3,\n",
    "    eps=1e-8\n",
    ")\n",
    "\n",
    "scheduler = get_linear_schedule_with_warmup(\n",
    "    optimizer,\n",
    "    num_warmup_steps=num_warmup_steps,\n",
    "    num_training_steps=num_training_steps\n",
    ")"
   ]
  },
  {
   "cell_type": "code",
   "execution_count": 7,
   "id": "2e06bfa7",
   "metadata": {},
   "outputs": [
    {
     "name": "stdout",
     "output_type": "stream",
     "text": [
      "\n",
      "Epoch 1/10\n",
      "--------------------------------------------------\n"
     ]
    },
    {
     "name": "stderr",
     "output_type": "stream",
     "text": [
      "Training:   0%|          | 0/222 [00:00<?, ?it/s]Passing a tuple of `past_key_values` is deprecated and will be removed in Transformers v4.48.0. You should pass an instance of `EncoderDecoderCache` instead, e.g. `past_key_values=EncoderDecoderCache.from_legacy_cache(past_key_values)`.\n",
      "Training: 100%|██████████| 222/222 [01:12<00:00,  3.06it/s]\n",
      "Validation: 100%|██████████| 29/29 [00:03<00:00,  7.26it/s]\n"
     ]
    },
    {
     "name": "stdout",
     "output_type": "stream",
     "text": [
      "Training   - Loss: 1.4804\n",
      "Validation - Loss: 0.8059\n",
      "LR: 5.00e-03\n",
      "\n",
      "Epoch 2/10\n",
      "--------------------------------------------------\n"
     ]
    },
    {
     "name": "stderr",
     "output_type": "stream",
     "text": [
      "Training: 100%|██████████| 222/222 [01:12<00:00,  3.06it/s]\n",
      "Validation: 100%|██████████| 29/29 [00:04<00:00,  7.25it/s]\n"
     ]
    },
    {
     "name": "stdout",
     "output_type": "stream",
     "text": [
      "Training   - Loss: 0.7896\n",
      "Validation - Loss: 0.7197\n",
      "LR: 4.44e-03\n",
      "\n",
      "Epoch 3/10\n",
      "--------------------------------------------------\n"
     ]
    },
    {
     "name": "stderr",
     "output_type": "stream",
     "text": [
      "Training: 100%|██████████| 222/222 [01:12<00:00,  3.06it/s]\n",
      "Validation: 100%|██████████| 29/29 [00:04<00:00,  7.19it/s]\n"
     ]
    },
    {
     "name": "stdout",
     "output_type": "stream",
     "text": [
      "Training   - Loss: 0.7088\n",
      "Validation - Loss: 0.6877\n",
      "LR: 3.89e-03\n",
      "\n",
      "Epoch 4/10\n",
      "--------------------------------------------------\n"
     ]
    },
    {
     "name": "stderr",
     "output_type": "stream",
     "text": [
      "Training: 100%|██████████| 222/222 [01:12<00:00,  3.06it/s]\n",
      "Validation: 100%|██████████| 29/29 [00:03<00:00,  7.25it/s]\n"
     ]
    },
    {
     "name": "stdout",
     "output_type": "stream",
     "text": [
      "Training   - Loss: 0.6664\n",
      "Validation - Loss: 0.6728\n",
      "LR: 3.33e-03\n",
      "\n",
      "Epoch 5/10\n",
      "--------------------------------------------------\n"
     ]
    },
    {
     "name": "stderr",
     "output_type": "stream",
     "text": [
      "Training: 100%|██████████| 222/222 [01:12<00:00,  3.06it/s]\n",
      "Validation: 100%|██████████| 29/29 [00:04<00:00,  7.19it/s]\n"
     ]
    },
    {
     "name": "stdout",
     "output_type": "stream",
     "text": [
      "Training   - Loss: 0.6349\n",
      "Validation - Loss: 0.6667\n",
      "LR: 2.78e-03\n",
      "\n",
      "Epoch 6/10\n",
      "--------------------------------------------------\n"
     ]
    },
    {
     "name": "stderr",
     "output_type": "stream",
     "text": [
      "Training: 100%|██████████| 222/222 [01:12<00:00,  3.06it/s]\n",
      "Validation: 100%|██████████| 29/29 [00:03<00:00,  7.26it/s]\n"
     ]
    },
    {
     "name": "stdout",
     "output_type": "stream",
     "text": [
      "Training   - Loss: 0.6082\n",
      "Validation - Loss: 0.6571\n",
      "LR: 2.22e-03\n",
      "\n",
      "Epoch 7/10\n",
      "--------------------------------------------------\n"
     ]
    },
    {
     "name": "stderr",
     "output_type": "stream",
     "text": [
      "Training: 100%|██████████| 222/222 [01:12<00:00,  3.06it/s]\n",
      "Validation: 100%|██████████| 29/29 [00:04<00:00,  7.18it/s]\n"
     ]
    },
    {
     "name": "stdout",
     "output_type": "stream",
     "text": [
      "Training   - Loss: 0.5847\n",
      "Validation - Loss: 0.6524\n",
      "LR: 1.67e-03\n",
      "\n",
      "Epoch 8/10\n",
      "--------------------------------------------------\n"
     ]
    },
    {
     "name": "stderr",
     "output_type": "stream",
     "text": [
      "Training: 100%|██████████| 222/222 [01:12<00:00,  3.06it/s]\n",
      "Validation: 100%|██████████| 29/29 [00:04<00:00,  7.12it/s]\n"
     ]
    },
    {
     "name": "stdout",
     "output_type": "stream",
     "text": [
      "Training   - Loss: 0.5636\n",
      "Validation - Loss: 0.6517\n",
      "LR: 1.11e-03\n",
      "\n",
      "Epoch 9/10\n",
      "--------------------------------------------------\n"
     ]
    },
    {
     "name": "stderr",
     "output_type": "stream",
     "text": [
      "Training: 100%|██████████| 222/222 [01:13<00:00,  3.04it/s]\n",
      "Validation: 100%|██████████| 29/29 [00:04<00:00,  7.09it/s]\n"
     ]
    },
    {
     "name": "stdout",
     "output_type": "stream",
     "text": [
      "Training   - Loss: 0.5438\n",
      "Validation - Loss: 0.6521\n",
      "LR: 5.56e-04\n",
      "\n",
      "Epoch 10/10\n",
      "--------------------------------------------------\n"
     ]
    },
    {
     "name": "stderr",
     "output_type": "stream",
     "text": [
      "Training: 100%|██████████| 222/222 [01:12<00:00,  3.06it/s]\n",
      "Validation: 100%|██████████| 29/29 [00:04<00:00,  7.19it/s]\n"
     ]
    },
    {
     "name": "stdout",
     "output_type": "stream",
     "text": [
      "Training   - Loss: 0.5269\n",
      "Validation - Loss: 0.6535\n",
      "LR: 0.00e+00\n"
     ]
    }
   ],
   "source": [
    "if not USE_TRAINED_MODEL:\n",
    "    response_model = train_model(\n",
    "        response_model,\n",
    "        optimizer,\n",
    "        scheduler,\n",
    "        train_loader_response,\n",
    "        valid_loader_response,\n",
    "        num_epochs=num_epochs,\n",
    "        device=DEVICE,\n",
    "        save=\"../../models/multixoz_response_model.pth\"\n",
    "    )\n",
    "\n",
    "else:\n",
    "    response_model.load_state_dict(torch.load(\"../../models/multixoz_response_model.pth\", weights_only=True))"
   ]
  },
  {
   "cell_type": "code",
   "execution_count": 8,
   "id": "f497cc4c",
   "metadata": {},
   "outputs": [
    {
     "name": "stderr",
     "output_type": "stream",
     "text": [
      "Inference: 100%|██████████| 56/56 [02:00<00:00,  2.15s/it]\n",
      "Inference: 100%|██████████| 8/8 [00:16<00:00,  2.05s/it]\n"
     ]
    }
   ],
   "source": [
    "generated_outputs_train = inference_model(\n",
    "    response_model, \n",
    "    tokenizer, \n",
    "    train_response_dataset.actions, \n",
    "    MAX_LENGTH_ENCODER_RESPONSE, \n",
    "    MAX_LENGTH_DECODER_RESPONSE, \n",
    "    DEVICE,\n",
    "    batch_size=1024\n",
    ") \n",
    "\n",
    "generated_outputs_valid = inference_model(\n",
    "    response_model, \n",
    "    tokenizer, \n",
    "    valid_response_dataset.actions, \n",
    "    MAX_LENGTH_ENCODER_RESPONSE, \n",
    "    MAX_LENGTH_DECODER_RESPONSE, \n",
    "    DEVICE,\n",
    "    batch_size=1024\n",
    ") "
   ]
  },
  {
   "cell_type": "code",
   "execution_count": 20,
   "id": "54fd1841",
   "metadata": {},
   "outputs": [],
   "source": [
    "from typing import List, Dict, Tuple\n",
    "from bert_score import score as bert_score\n",
    "from nltk.translate.bleu_score import sentence_bleu, SmoothingFunction\n",
    "\n",
    "\n",
    "def get_evaluation_score(predictions: List[str], references: List[str]) -> float:\n",
    "    smoothing = SmoothingFunction().method1\n",
    "    \n",
    "    predictions = [pred.strip().lower() for pred in predictions]\n",
    "    references = [ref.strip().lower() for ref in references]\n",
    "    \n",
    "    bleu_scores = [\n",
    "        sentence_bleu(\n",
    "            [ref.split()], \n",
    "            pred.split(), \n",
    "            smoothing_function=smoothing\n",
    "        ) \n",
    "        for pred, ref in zip(predictions, references)\n",
    "    ]\n",
    "\n",
    "    P, R, F1 = bert_score(\n",
    "        predictions, \n",
    "        references, \n",
    "        lang='en', \n",
    "        rescale_with_baseline=True, \n",
    "        verbose=True, \n",
    "        batch_size=256\n",
    "    )\n",
    "    \n",
    "    avg_bert_f1 = F1.mean().item()\n",
    "    avg_bleu = sum(bleu_scores) / len(bleu_scores)\n",
    "    \n",
    "    return {\n",
    "        \"bleu_score\": avg_bleu,\n",
    "        \"bert_f1_score\": avg_bert_f1\n",
    "    }"
   ]
  },
  {
   "cell_type": "code",
   "execution_count": null,
   "id": "c49857ed",
   "metadata": {},
   "outputs": [
    {
     "name": "stderr",
     "output_type": "stream",
     "text": [
      "Some weights of RobertaModel were not initialized from the model checkpoint at roberta-large and are newly initialized: ['roberta.pooler.dense.bias', 'roberta.pooler.dense.weight']\n",
      "You should probably TRAIN this model on a down-stream task to be able to use it for predictions and inference.\n"
     ]
    },
    {
     "name": "stdout",
     "output_type": "stream",
     "text": [
      "calculating scores...\n",
      "computing bert embedding.\n"
     ]
    },
    {
     "data": {
      "application/vnd.jupyter.widget-view+json": {
       "model_id": "32092e2c6a0440fcb5bbeedd1bf3d6d8",
       "version_major": 2,
       "version_minor": 0
      },
      "text/plain": [
       "  0%|          | 0/353 [00:00<?, ?it/s]"
      ]
     },
     "metadata": {},
     "output_type": "display_data"
    }
   ],
   "source": [
    "bleu_score_train = get_evaluation_score(generated_outputs_train, train_response_dataset.actions)\n",
    "bleu_score_valid = get_evaluation_score(generated_outputs_valid, valid_response_dataset.actions)"
   ]
  },
  {
   "cell_type": "code",
   "execution_count": null,
   "id": "d4976455",
   "metadata": {},
   "outputs": [
    {
     "name": "stdout",
     "output_type": "stream",
     "text": [
      "BLEU Score Train: 0.021270445050982297\n",
      "BERT F1 Score Train: 0\n",
      "BLEU Score Valid: 0.020149294690607063\n",
      "BERT F1 Score Valid: 0\n"
     ]
    }
   ],
   "source": [
    "print(\"BLEU Score Train:\", bleu_score_train[\"bleu_score\"])\n",
    "print(\"BERT F1 Score Train:\", bleu_score_train[\"bert_f1_score\"])\n",
    "print(\"BLEU Score Valid:\", bleu_score_valid[\"bleu_score\"])\n",
    "print(\"BERT F1 Score Valid:\", bleu_score_valid[\"bert_f1_score\"])"
   ]
  },
  {
   "cell_type": "code",
   "execution_count": 19,
   "id": "25c046e9",
   "metadata": {},
   "outputs": [
    {
     "name": "stderr",
     "output_type": "stream",
     "text": [
      "Inference: 100%|██████████| 1/1 [00:00<00:00,  9.15it/s]"
     ]
    },
    {
     "name": "stdout",
     "output_type": "stream",
     "text": [
      "User Action: [USER]: I would like to leave after 9:45. Please let me know the car type and contact number. [ACTION]: Taxi-Inform(phone=07597996556, type=red volkswagen)\n",
      "Generated Response: Okay, I've booked you a red volkswagen and the contact number is 07597996556.\n",
      "True Response: A red volkswagen will pick you up. The contact number is 07597996556.\n"
     ]
    },
    {
     "name": "stderr",
     "output_type": "stream",
     "text": [
      "\n"
     ]
    }
   ],
   "source": [
    "index = 700\n",
    "inputs = valid_response_dataset.actions[index]\n",
    "\n",
    "generated_output = inference_model(\n",
    "    response_model,\n",
    "    tokenizer,\n",
    "    inputs,\n",
    "    MAX_LENGTH_ENCODER_RESPONSE,\n",
    "    MAX_LENGTH_DECODER_RESPONSE,\n",
    "    DEVICE\n",
    ")\n",
    "\n",
    "print(\"User Action:\", inputs)\n",
    "print(\"Generated Response:\", generated_output)\n",
    "print(\"True Response:\", valid_response_dataset.responses[index])"
   ]
  },
  {
   "cell_type": "code",
   "execution_count": null,
   "id": "f8841963",
   "metadata": {},
   "outputs": [],
   "source": []
  }
 ],
 "metadata": {
  "kernelspec": {
   "display_name": ".venv",
   "language": "python",
   "name": "python3"
  },
  "language_info": {
   "codemirror_mode": {
    "name": "ipython",
    "version": 3
   },
   "file_extension": ".py",
   "mimetype": "text/x-python",
   "name": "python",
   "nbconvert_exporter": "python",
   "pygments_lexer": "ipython3",
   "version": "3.10.12"
  }
 },
 "nbformat": 4,
 "nbformat_minor": 5
}
