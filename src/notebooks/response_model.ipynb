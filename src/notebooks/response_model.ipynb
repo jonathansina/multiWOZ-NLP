{
 "cells": [
  {
   "cell_type": "code",
   "execution_count": null,
   "id": "1c12ff90",
   "metadata": {},
   "outputs": [],
   "source": [
    "import sys\n",
    "import pickle\n",
    "sys.path.append(\"..\")\n",
    "\n",
    "import torch\n",
    "from torch.optim import AdamW\n",
    "from transformers import T5Tokenizer\n",
    "from torch.utils.data import DataLoader\n",
    "from transformers import T5ForConditionalGeneration\n",
    "\n",
    "from transformers import get_linear_schedule_with_warmup\n",
    "\n",
    "from scripts.global_vars import (\n",
    "    DEVICE, \n",
    "    BATCH_SIZE, \n",
    "    MODEL_NAME,\n",
    "    USE_SAVE_CHECKPOINT,\n",
    "    DELEXICALIZATION_RESPONSE,\n",
    "    MAX_LENGTH_ENCODER_RESPONSE, \n",
    "    MAX_LENGTH_DECODER_RESPONSE\n",
    ")\n",
    "\n",
    "from scripts.pytorch.training import train_model\n",
    "from scripts.pytorch.inference import inference_model\n",
    "from scripts.utils import find_zero_percentage, plot_model_performance\n",
    "from scripts.preprocessing.response import ResponseDataset, get_evaluation_score"
   ]
  },
  {
   "cell_type": "markdown",
   "id": "7bc3cb1a",
   "metadata": {},
   "source": [
    "___\n",
    "### **STAGE 1. Dataset Loading and Preprocessing**\n",
    "___"
   ]
  },
  {
   "cell_type": "code",
   "execution_count": 2,
   "id": "b1e016ff",
   "metadata": {},
   "outputs": [],
   "source": [
    "dataset = pickle.load(open(\"../../data/dataset.pkl\", \"rb\"))\n",
    "\n",
    "train_data = dataset['train']\n",
    "val_data = dataset['validation']"
   ]
  },
  {
   "cell_type": "code",
   "execution_count": null,
   "id": "81914a27",
   "metadata": {},
   "outputs": [
    {
     "name": "stderr",
     "output_type": "stream",
     "text": [
      "Processing dialogues: 100%|██████████| 8437/8437 [00:03<00:00, 2484.74it/s]\n",
      "Processing dialogues: 100%|██████████| 1000/1000 [00:00<00:00, 2303.03it/s]"
     ]
    },
    {
     "name": "stdout",
     "output_type": "stream",
     "text": [
      "\n",
      "RESPONSE IDs shape: torch.Size([256, 64])\n",
      "Response IDs shape: torch.Size([256, 32])\n"
     ]
    },
    {
     "name": "stderr",
     "output_type": "stream",
     "text": [
      "\n"
     ]
    }
   ],
   "source": [
    "tokenizer = T5Tokenizer.from_pretrained(\n",
    "    legacy=True,\n",
    "    pretrained_model_name_or_path=MODEL_NAME\n",
    ")\n",
    "\n",
    "train_response_dataset = ResponseDataset(\n",
    "    data=dataset['train'],\n",
    "    tokenizer=tokenizer,\n",
    "    max_output_len=MAX_LENGTH_DECODER_RESPONSE,\n",
    "    max_input_len=MAX_LENGTH_ENCODER_RESPONSE,\n",
    "    delex=DELEXICALIZATION_RESPONSE\n",
    ")\n",
    "\n",
    "valid_response_dataset = ResponseDataset(\n",
    "    data=dataset['validation'],\n",
    "    tokenizer=tokenizer,\n",
    "    max_output_len=MAX_LENGTH_DECODER_RESPONSE,\n",
    "    max_input_len=MAX_LENGTH_ENCODER_RESPONSE,\n",
    "    delex=DELEXICALIZATION_RESPONSE\n",
    ")\n",
    "\n",
    "train_loader_response = DataLoader(train_response_dataset, batch_size=BATCH_SIZE, shuffle=True)\n",
    "valid_loader_response = DataLoader(valid_response_dataset, batch_size=BATCH_SIZE)\n",
    "\n",
    "batch = next(iter(train_loader_response))\n",
    "print(\"\\nRESPONSE IDs shape:\", batch['encoder_input_ids'].shape)\n",
    "print(\"Response IDs shape:\", batch['decoder_input_ids'].shape)"
   ]
  },
  {
   "cell_type": "code",
   "execution_count": 4,
   "id": "693d6198",
   "metadata": {},
   "outputs": [],
   "source": [
    "train_encoder_zero = find_zero_percentage(train_loader_response, \"encoder_input_ids\", MAX_LENGTH_ENCODER_RESPONSE)\n",
    "train_decoder_zero = find_zero_percentage(train_loader_response, \"decoder_input_ids\", MAX_LENGTH_DECODER_RESPONSE)\n",
    "valid_encoder_zero = find_zero_percentage(valid_loader_response, \"encoder_input_ids\", MAX_LENGTH_ENCODER_RESPONSE)\n",
    "valid_decoder_zero = find_zero_percentage(valid_loader_response, \"decoder_input_ids\", MAX_LENGTH_DECODER_RESPONSE)"
   ]
  },
  {
   "cell_type": "code",
   "execution_count": 5,
   "id": "9920b2b7",
   "metadata": {},
   "outputs": [
    {
     "name": "stdout",
     "output_type": "stream",
     "text": [
      "Train Encoder Zero Percentage: 24.295009672641754 \n",
      "Train Decoder Zero Percentage: 35.385385155677795 \n",
      "Valid Encoder Zero Percentage: 23.39279055595398 \n",
      "Valid Decoder Zero Percentage: 34.25803482532501\n"
     ]
    }
   ],
   "source": [
    "print(\n",
    "    \"Train Encoder Zero Percentage:\", train_encoder_zero * 100,\n",
    "    \"\\nTrain Decoder Zero Percentage:\", train_decoder_zero * 100,\n",
    "    \"\\nValid Encoder Zero Percentage:\", valid_encoder_zero * 100,\n",
    "    \"\\nValid Decoder Zero Percentage:\", valid_decoder_zero * 100\n",
    ")"
   ]
  },
  {
   "cell_type": "markdown",
   "id": "84bdd1cb",
   "metadata": {},
   "source": [
    "___\n",
    "### **STAGE 2. Model Training**\n",
    "___"
   ]
  },
  {
   "cell_type": "code",
   "execution_count": 6,
   "id": "c8b4192f",
   "metadata": {},
   "outputs": [],
   "source": [
    "num_epochs = 5\n",
    "num_training_steps = len(train_loader_response) * num_epochs\n",
    "num_warmup_steps = num_training_steps // 10\n",
    "\n",
    "response_model = T5ForConditionalGeneration.from_pretrained(\n",
    "    pretrained_model_name_or_path=MODEL_NAME\n",
    ").to(DEVICE)\n",
    "\n",
    "optimizer = AdamW(\n",
    "    response_model.parameters(),\n",
    "    lr=5e-3,\n",
    "    eps=1e-8\n",
    ")\n",
    "\n",
    "scheduler = get_linear_schedule_with_warmup(\n",
    "    optimizer,\n",
    "    num_warmup_steps=num_warmup_steps,\n",
    "    num_training_steps=num_training_steps\n",
    ")"
   ]
  },
  {
   "cell_type": "code",
   "execution_count": 7,
   "id": "2e06bfa7",
   "metadata": {},
   "outputs": [],
   "source": [
    "if not USE_SAVE_CHECKPOINT:\n",
    "    response_model = train_model(\n",
    "        response_model,\n",
    "        optimizer,\n",
    "        scheduler,\n",
    "        train_loader_response,\n",
    "        valid_loader_response,\n",
    "        num_epochs=num_epochs,\n",
    "        device=DEVICE,\n",
    "        save=\"../../models/multixoz_response_model.pth\"\n",
    "    )\n",
    "\n",
    "else:\n",
    "    response_model.load_state_dict(torch.load(\"../../models/multixoz_response_model.pth\", weights_only=True, map_location=torch.device(DEVICE)))"
   ]
  },
  {
   "cell_type": "markdown",
   "id": "3dc8871e",
   "metadata": {},
   "source": [
    "___\n",
    "### **STAGE 3. Model Evaluation**\n",
    "___"
   ]
  },
  {
   "cell_type": "code",
   "execution_count": 8,
   "id": "f497cc4c",
   "metadata": {},
   "outputs": [],
   "source": [
    "if not USE_SAVE_CHECKPOINT:    \n",
    "    generated_outputs_train = inference_model(\n",
    "        response_model, \n",
    "        tokenizer, \n",
    "        train_response_dataset.actions, \n",
    "        MAX_LENGTH_ENCODER_RESPONSE, \n",
    "        MAX_LENGTH_DECODER_RESPONSE, \n",
    "        DEVICE,\n",
    "        batch_size=1024,\n",
    "        save=\"../../data/generated_outputs_train_response.pkl\"\n",
    "    )\n",
    "\n",
    "    generated_outputs_valid = inference_model(\n",
    "        response_model, \n",
    "        tokenizer, \n",
    "        valid_response_dataset.actions, \n",
    "        MAX_LENGTH_ENCODER_RESPONSE, \n",
    "        MAX_LENGTH_DECODER_RESPONSE, \n",
    "        DEVICE,\n",
    "        batch_size=1024,\n",
    "        save=\"../../data/generated_outputs_valid_response.pkl\"\n",
    "    )\n",
    "\n",
    "else:\n",
    "    generated_outputs_train = pickle.load(open(\"../../data/generated_outputs_train_response.pkl\", \"rb\"))\n",
    "    generated_outputs_valid = pickle.load(open(\"../../data/generated_outputs_valid_response.pkl\", \"rb\"))"
   ]
  },
  {
   "cell_type": "code",
   "execution_count": 9,
   "id": "c49857ed",
   "metadata": {},
   "outputs": [],
   "source": [
    "if not USE_SAVE_CHECKPOINT:\n",
    "    train_evaluation = get_evaluation_score(\n",
    "        generated_outputs_train, \n",
    "        train_response_dataset.responses,\n",
    "        save=\"../../data/train_evaluation_response.pkl\" \n",
    "    )\n",
    "    valid_evaluation = get_evaluation_score(\n",
    "        generated_outputs_valid, \n",
    "        valid_response_dataset.responses,\n",
    "        save=\"../../data/valid_evaluation_response.pkl\"\n",
    "    )\n",
    "\n",
    "else:\n",
    "    train_evaluation = pickle.load(open(\"../../data/train_evaluation_response.pkl\", \"rb\"))\n",
    "    valid_evaluation = pickle.load(open(\"../../data/valid_evaluation_response.pkl\", \"rb\"))"
   ]
  },
  {
   "cell_type": "code",
   "execution_count": 10,
   "id": "d4976455",
   "metadata": {},
   "outputs": [
    {
     "name": "stdout",
     "output_type": "stream",
     "text": [
      "BLEU Score Train: 0.4088749241123804\n",
      "BERT F1 Score Train: 0.5329248309135437\n",
      "BLEU Score Valid: 0.40128789579821517\n",
      "BERT F1 Score Valid: 0.5254555344581604\n"
     ]
    }
   ],
   "source": [
    "print(\"BLEU Score Train:\", train_evaluation[\"bleu_score\"])\n",
    "print(\"BERT F1 Score Train:\", train_evaluation[\"bert_f1_score\"])\n",
    "print(\"BLEU Score Valid:\", valid_evaluation[\"bleu_score\"])\n",
    "print(\"BERT F1 Score Valid:\", valid_evaluation[\"bert_f1_score\"])"
   ]
  },
  {
   "cell_type": "code",
   "execution_count": 11,
   "id": "25c046e9",
   "metadata": {},
   "outputs": [
    {
     "name": "stderr",
     "output_type": "stream",
     "text": [
      "Inference: 100%|██████████| 1/1 [00:06<00:00,  6.02s/it]"
     ]
    },
    {
     "name": "stdout",
     "output_type": "stream",
     "text": [
      "\n",
      "User Action: [USER]: I need the address, postcode and the price range. [ACTION]: Restaurant-Recommend(address=Regent Street City Centre, name=Charlie Chan, postcode=cb21db, pricerange=cheap) | general-reqmore(none=none)\n",
      "Generated Response: Charlie Chan is a great restaurant in the cheap price range. The address is Regent Street City Centre, postcode cb21db.\n",
      "True Response: Ok how about Charlie Chan, located at Regent Street City Centre. Postcode is cb21db with a cheap price. Can I help you further today?\n"
     ]
    },
    {
     "name": "stderr",
     "output_type": "stream",
     "text": [
      "\n"
     ]
    }
   ],
   "source": [
    "index = 1\n",
    "inputs = valid_response_dataset.actions[index]\n",
    "\n",
    "generated_output = inference_model(\n",
    "    response_model,\n",
    "    tokenizer,\n",
    "    inputs,\n",
    "    MAX_LENGTH_ENCODER_RESPONSE,\n",
    "    MAX_LENGTH_DECODER_RESPONSE,\n",
    "    DEVICE\n",
    ")\n",
    "\n",
    "print(\"\\nUser Action:\", inputs)\n",
    "print(\"Generated Response:\", generated_output)\n",
    "print(\"True Response:\", valid_response_dataset.responses[index])"
   ]
  },
  {
   "cell_type": "markdown",
   "id": "037ec607",
   "metadata": {},
   "source": [
    "___\n",
    "### **STAGE 4. Result Visualization**\n",
    "___"
   ]
  },
  {
   "cell_type": "code",
   "execution_count": 13,
   "id": "d5ebe7fc",
   "metadata": {},
   "outputs": [
    {
     "data": {
      "image/png": "[encoded data removed]",
      "text/plain": [
       "<Figure size 1000x600 with 1 Axes>"
      ]
     },
     "metadata": {},
     "output_type": "display_data"
    }
   ],
   "source": [
    "plot_model_performance(train_evaluation, valid_evaluation, save=\"../../performance/reponse_model_performance.png\")"
   ]
  }
 ],
 "metadata": {
  "kernelspec": {
   "display_name": ".venv",
   "language": "python",
   "name": "python3"
  },
  "language_info": {
   "codemirror_mode": {
    "name": "ipython",
    "version": 3
   },
   "file_extension": ".py",
   "mimetype": "text/x-python",
   "name": "python",
   "nbconvert_exporter": "python",
   "pygments_lexer": "ipython3",
   "version": "3.10.11"
  }
 },
 "nbformat": 4,
 "nbformat_minor": 5
}
