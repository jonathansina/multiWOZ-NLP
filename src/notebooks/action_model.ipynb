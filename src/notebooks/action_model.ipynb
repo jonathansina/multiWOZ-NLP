{
 "cells": [
  {
   "cell_type": "code",
   "execution_count": 1,
   "id": "aa4e07fb",
   "metadata": {},
   "outputs": [],
   "source": [
    "import sys\n",
    "sys.path.append(\"..\")\n",
    "\n",
    "import torch\n",
    "from torch.optim import AdamW\n",
    "from transformers import T5Tokenizer\n",
    "from torch.utils.data import DataLoader\n",
    "from transformers import T5ForConditionalGeneration\n",
    "\n",
    "from datasets import load_dataset\n",
    "from transformers import get_linear_schedule_with_warmup\n",
    "\n",
    "from scripts.global_vars import (\n",
    "    DEVICE, \n",
    "    BATCH_SIZE, \n",
    "    MAX_TURNS,\n",
    "    MODEL_NAME,\n",
    "    USE_TRAINED_MODEL,\n",
    "    MAX_LENGTH_ENCODER_ACTION, \n",
    "    MAX_LENGTH_DECODER_ACTION\n",
    ")\n",
    "\n",
    "from scripts.utils import find_zero_percentage\n",
    "from scripts.pytorch.training import train_model\n",
    "from scripts.pytorch.inference import inference_model\n",
    "from scripts.preprocessing.action import ActionDataset"
   ]
  },
  {
   "cell_type": "code",
   "execution_count": 2,
   "id": "858ee728",
   "metadata": {},
   "outputs": [],
   "source": [
    "dataset = load_dataset(\"multi_woz_v22\", trust_remote_code=True)\n",
    "\n",
    "train_data = dataset['train']\n",
    "val_data = dataset['validation']"
   ]
  },
  {
   "cell_type": "code",
   "execution_count": 3,
   "id": "e7261d13",
   "metadata": {},
   "outputs": [
    {
     "name": "stderr",
     "output_type": "stream",
     "text": [
      "Processing dialogues: 100%|██████████| 8437/8437 [00:03<00:00, 2156.39it/s]\n",
      "Processing dialogues: 100%|██████████| 1000/1000 [00:00<00:00, 2022.11it/s]\n"
     ]
    },
    {
     "name": "stdout",
     "output_type": "stream",
     "text": [
      "Inputs IDs shape: torch.Size([256, 64])\n",
      "Action IDs shape: torch.Size([256, 32])\n"
     ]
    }
   ],
   "source": [
    "tokenizer = T5Tokenizer.from_pretrained(\n",
    "    legacy=True,\n",
    "    pretrained_model_name_or_path=MODEL_NAME\n",
    ")\n",
    "\n",
    "train_action_dataset = ActionDataset(\n",
    "    data=dataset['train'],\n",
    "    tokenizer=tokenizer,\n",
    "    max_turns=MAX_TURNS,\n",
    "    max_output_len=MAX_LENGTH_DECODER_ACTION,\n",
    "    max_input_len=MAX_LENGTH_ENCODER_ACTION\n",
    ")\n",
    "\n",
    "valid_action_dataset = ActionDataset(\n",
    "    data=dataset['validation'],\n",
    "    tokenizer=tokenizer,\n",
    "    max_turns=MAX_TURNS,\n",
    "    max_output_len=MAX_LENGTH_DECODER_ACTION,\n",
    "    max_input_len=MAX_LENGTH_ENCODER_ACTION\n",
    ")\n",
    "\n",
    "train_loader_action = DataLoader(train_action_dataset, batch_size=BATCH_SIZE, shuffle=True)\n",
    "valid_loader_action = DataLoader(valid_action_dataset, batch_size=BATCH_SIZE)\n",
    "\n",
    "batch = next(iter(train_loader_action))\n",
    "print(\"Inputs IDs shape:\", batch['encoder_input_ids'].shape)\n",
    "print(\"Action IDs shape:\", batch['decoder_input_ids'].shape)"
   ]
  },
  {
   "cell_type": "code",
   "execution_count": 4,
   "id": "afec8fee",
   "metadata": {},
   "outputs": [],
   "source": [
    "train_encoder_zero = find_zero_percentage(train_loader_action, \"encoder_input_ids\", MAX_LENGTH_ENCODER_ACTION)\n",
    "train_decoder_zero = find_zero_percentage(train_loader_action, \"decoder_input_ids\", MAX_LENGTH_DECODER_ACTION)\n",
    "valid_encoder_zero = find_zero_percentage(valid_loader_action, \"encoder_input_ids\", MAX_LENGTH_ENCODER_ACTION)\n",
    "valid_decoder_zero = find_zero_percentage(valid_loader_action, \"decoder_input_ids\", MAX_LENGTH_DECODER_ACTION)"
   ]
  },
  {
   "cell_type": "code",
   "execution_count": 5,
   "id": "c9cc298a",
   "metadata": {},
   "outputs": [
    {
     "name": "stdout",
     "output_type": "stream",
     "text": [
      "Train Encoder Zero Percentage: 33.90093445777893 \n",
      "Train Decoder Zero Percentage: 27.37710475921631 \n",
      "Valid Encoder Zero Percentage: 32.69616961479187 \n",
      "Valid Decoder Zero Percentage: 26.663359999656677\n"
     ]
    }
   ],
   "source": [
    "print(\n",
    "    \"Train Encoder Zero Percentage:\", train_encoder_zero * 100,\n",
    "    \"\\nTrain Decoder Zero Percentage:\", train_decoder_zero * 100,\n",
    "    \"\\nValid Encoder Zero Percentage:\", valid_encoder_zero * 100,\n",
    "    \"\\nValid Decoder Zero Percentage:\", valid_decoder_zero * 100\n",
    ")"
   ]
  },
  {
   "cell_type": "code",
   "execution_count": 6,
   "id": "10fc5f64",
   "metadata": {},
   "outputs": [],
   "source": [
    "num_epochs = 5\n",
    "num_training_steps = len(train_loader_action) * num_epochs\n",
    "num_warmup_steps = num_training_steps // 10\n",
    "\n",
    "action_model = T5ForConditionalGeneration.from_pretrained(\n",
    "    pretrained_model_name_or_path=MODEL_NAME\n",
    ").to(DEVICE)\n",
    "\n",
    "optimizer = AdamW(\n",
    "    action_model.parameters(),\n",
    "    lr=1e-3,\n",
    "    eps=1e-8\n",
    ")\n",
    "\n",
    "scheduler = get_linear_schedule_with_warmup(\n",
    "    optimizer,\n",
    "    num_warmup_steps=num_warmup_steps,\n",
    "    num_training_steps=num_training_steps\n",
    ")"
   ]
  },
  {
   "cell_type": "code",
   "execution_count": 7,
   "id": "8b15418f",
   "metadata": {},
   "outputs": [
    {
     "name": "stderr",
     "output_type": "stream",
     "text": [
      "/tmp/ipykernel_242802/2470509527.py:14: FutureWarning: You are using `torch.load` with `weights_only=False` (the current default value), which uses the default pickle module implicitly. It is possible to construct malicious pickle data which will execute arbitrary code during unpickling (See https://github.com/pytorch/pytorch/blob/main/SECURITY.md#untrusted-models for more details). In a future release, the default value for `weights_only` will be flipped to `True`. This limits the functions that could be executed during unpickling. Arbitrary objects will no longer be allowed to be loaded via this mode unless they are explicitly allowlisted by the user via `torch.serialization.add_safe_globals`. We recommend you start setting `weights_only=True` for any use case where you don't have full control of the loaded file. Please open an issue on GitHub for any issues related to this experimental feature.\n",
      "  action_model.load_state_dict(torch.load(\"../../models/multixoz_action_model.pth\"))\n"
     ]
    },
    {
     "ename": "RuntimeError",
     "evalue": "Error(s) in loading state_dict for T5ForConditionalGeneration:\n\tMissing key(s) in state_dict: \"encoder.block.4.layer.0.SelfAttention.q.weight\", \"encoder.block.4.layer.0.SelfAttention.k.weight\", \"encoder.block.4.layer.0.SelfAttention.v.weight\", \"encoder.block.4.layer.0.SelfAttention.o.weight\", \"encoder.block.4.layer.0.layer_norm.weight\", \"encoder.block.4.layer.1.DenseReluDense.wi.weight\", \"encoder.block.4.layer.1.DenseReluDense.wo.weight\", \"encoder.block.4.layer.1.layer_norm.weight\", \"encoder.block.5.layer.0.SelfAttention.q.weight\", \"encoder.block.5.layer.0.SelfAttention.k.weight\", \"encoder.block.5.layer.0.SelfAttention.v.weight\", \"encoder.block.5.layer.0.SelfAttention.o.weight\", \"encoder.block.5.layer.0.layer_norm.weight\", \"encoder.block.5.layer.1.DenseReluDense.wi.weight\", \"encoder.block.5.layer.1.DenseReluDense.wo.weight\", \"encoder.block.5.layer.1.layer_norm.weight\", \"decoder.block.4.layer.0.SelfAttention.q.weight\", \"decoder.block.4.layer.0.SelfAttention.k.weight\", \"decoder.block.4.layer.0.SelfAttention.v.weight\", \"decoder.block.4.layer.0.SelfAttention.o.weight\", \"decoder.block.4.layer.0.layer_norm.weight\", \"decoder.block.4.layer.1.EncDecAttention.q.weight\", \"decoder.block.4.layer.1.EncDecAttention.k.weight\", \"decoder.block.4.layer.1.EncDecAttention.v.weight\", \"decoder.block.4.layer.1.EncDecAttention.o.weight\", \"decoder.block.4.layer.1.layer_norm.weight\", \"decoder.block.4.layer.2.DenseReluDense.wi.weight\", \"decoder.block.4.layer.2.DenseReluDense.wo.weight\", \"decoder.block.4.layer.2.layer_norm.weight\", \"decoder.block.5.layer.0.SelfAttention.q.weight\", \"decoder.block.5.layer.0.SelfAttention.k.weight\", \"decoder.block.5.layer.0.SelfAttention.v.weight\", \"decoder.block.5.layer.0.SelfAttention.o.weight\", \"decoder.block.5.layer.0.layer_norm.weight\", \"decoder.block.5.layer.1.EncDecAttention.q.weight\", \"decoder.block.5.layer.1.EncDecAttention.k.weight\", \"decoder.block.5.layer.1.EncDecAttention.v.weight\", \"decoder.block.5.layer.1.EncDecAttention.o.weight\", \"decoder.block.5.layer.1.layer_norm.weight\", \"decoder.block.5.layer.2.DenseReluDense.wi.weight\", \"decoder.block.5.layer.2.DenseReluDense.wo.weight\", \"decoder.block.5.layer.2.layer_norm.weight\". \n\tsize mismatch for shared.weight: copying a param with shape torch.Size([32128, 384]) from checkpoint, the shape in current model is torch.Size([32128, 512]).\n\tsize mismatch for encoder.embed_tokens.weight: copying a param with shape torch.Size([32128, 384]) from checkpoint, the shape in current model is torch.Size([32128, 512]).\n\tsize mismatch for encoder.block.0.layer.0.SelfAttention.q.weight: copying a param with shape torch.Size([512, 384]) from checkpoint, the shape in current model is torch.Size([512, 512]).\n\tsize mismatch for encoder.block.0.layer.0.SelfAttention.k.weight: copying a param with shape torch.Size([512, 384]) from checkpoint, the shape in current model is torch.Size([512, 512]).\n\tsize mismatch for encoder.block.0.layer.0.SelfAttention.v.weight: copying a param with shape torch.Size([512, 384]) from checkpoint, the shape in current model is torch.Size([512, 512]).\n\tsize mismatch for encoder.block.0.layer.0.SelfAttention.o.weight: copying a param with shape torch.Size([384, 512]) from checkpoint, the shape in current model is torch.Size([512, 512]).\n\tsize mismatch for encoder.block.0.layer.0.layer_norm.weight: copying a param with shape torch.Size([384]) from checkpoint, the shape in current model is torch.Size([512]).\n\tsize mismatch for encoder.block.0.layer.1.DenseReluDense.wi.weight: copying a param with shape torch.Size([1536, 384]) from checkpoint, the shape in current model is torch.Size([2048, 512]).\n\tsize mismatch for encoder.block.0.layer.1.DenseReluDense.wo.weight: copying a param with shape torch.Size([384, 1536]) from checkpoint, the shape in current model is torch.Size([512, 2048]).\n\tsize mismatch for encoder.block.0.layer.1.layer_norm.weight: copying a param with shape torch.Size([384]) from checkpoint, the shape in current model is torch.Size([512]).\n\tsize mismatch for encoder.block.1.layer.0.SelfAttention.q.weight: copying a param with shape torch.Size([512, 384]) from checkpoint, the shape in current model is torch.Size([512, 512]).\n\tsize mismatch for encoder.block.1.layer.0.SelfAttention.k.weight: copying a param with shape torch.Size([512, 384]) from checkpoint, the shape in current model is torch.Size([512, 512]).\n\tsize mismatch for encoder.block.1.layer.0.SelfAttention.v.weight: copying a param with shape torch.Size([512, 384]) from checkpoint, the shape in current model is torch.Size([512, 512]).\n\tsize mismatch for encoder.block.1.layer.0.SelfAttention.o.weight: copying a param with shape torch.Size([384, 512]) from checkpoint, the shape in current model is torch.Size([512, 512]).\n\tsize mismatch for encoder.block.1.layer.0.layer_norm.weight: copying a param with shape torch.Size([384]) from checkpoint, the shape in current model is torch.Size([512]).\n\tsize mismatch for encoder.block.1.layer.1.DenseReluDense.wi.weight: copying a param with shape torch.Size([1536, 384]) from checkpoint, the shape in current model is torch.Size([2048, 512]).\n\tsize mismatch for encoder.block.1.layer.1.DenseReluDense.wo.weight: copying a param with shape torch.Size([384, 1536]) from checkpoint, the shape in current model is torch.Size([512, 2048]).\n\tsize mismatch for encoder.block.1.layer.1.layer_norm.weight: copying a param with shape torch.Size([384]) from checkpoint, the shape in current model is torch.Size([512]).\n\tsize mismatch for encoder.block.2.layer.0.SelfAttention.q.weight: copying a param with shape torch.Size([512, 384]) from checkpoint, the shape in current model is torch.Size([512, 512]).\n\tsize mismatch for encoder.block.2.layer.0.SelfAttention.k.weight: copying a param with shape torch.Size([512, 384]) from checkpoint, the shape in current model is torch.Size([512, 512]).\n\tsize mismatch for encoder.block.2.layer.0.SelfAttention.v.weight: copying a param with shape torch.Size([512, 384]) from checkpoint, the shape in current model is torch.Size([512, 512]).\n\tsize mismatch for encoder.block.2.layer.0.SelfAttention.o.weight: copying a param with shape torch.Size([384, 512]) from checkpoint, the shape in current model is torch.Size([512, 512]).\n\tsize mismatch for encoder.block.2.layer.0.layer_norm.weight: copying a param with shape torch.Size([384]) from checkpoint, the shape in current model is torch.Size([512]).\n\tsize mismatch for encoder.block.2.layer.1.DenseReluDense.wi.weight: copying a param with shape torch.Size([1536, 384]) from checkpoint, the shape in current model is torch.Size([2048, 512]).\n\tsize mismatch for encoder.block.2.layer.1.DenseReluDense.wo.weight: copying a param with shape torch.Size([384, 1536]) from checkpoint, the shape in current model is torch.Size([512, 2048]).\n\tsize mismatch for encoder.block.2.layer.1.layer_norm.weight: copying a param with shape torch.Size([384]) from checkpoint, the shape in current model is torch.Size([512]).\n\tsize mismatch for encoder.block.3.layer.0.SelfAttention.q.weight: copying a param with shape torch.Size([512, 384]) from checkpoint, the shape in current model is torch.Size([512, 512]).\n\tsize mismatch for encoder.block.3.layer.0.SelfAttention.k.weight: copying a param with shape torch.Size([512, 384]) from checkpoint, the shape in current model is torch.Size([512, 512]).\n\tsize mismatch for encoder.block.3.layer.0.SelfAttention.v.weight: copying a param with shape torch.Size([512, 384]) from checkpoint, the shape in current model is torch.Size([512, 512]).\n\tsize mismatch for encoder.block.3.layer.0.SelfAttention.o.weight: copying a param with shape torch.Size([384, 512]) from checkpoint, the shape in current model is torch.Size([512, 512]).\n\tsize mismatch for encoder.block.3.layer.0.layer_norm.weight: copying a param with shape torch.Size([384]) from checkpoint, the shape in current model is torch.Size([512]).\n\tsize mismatch for encoder.block.3.layer.1.DenseReluDense.wi.weight: copying a param with shape torch.Size([1536, 384]) from checkpoint, the shape in current model is torch.Size([2048, 512]).\n\tsize mismatch for encoder.block.3.layer.1.DenseReluDense.wo.weight: copying a param with shape torch.Size([384, 1536]) from checkpoint, the shape in current model is torch.Size([512, 2048]).\n\tsize mismatch for encoder.block.3.layer.1.layer_norm.weight: copying a param with shape torch.Size([384]) from checkpoint, the shape in current model is torch.Size([512]).\n\tsize mismatch for encoder.final_layer_norm.weight: copying a param with shape torch.Size([384]) from checkpoint, the shape in current model is torch.Size([512]).\n\tsize mismatch for decoder.embed_tokens.weight: copying a param with shape torch.Size([32128, 384]) from checkpoint, the shape in current model is torch.Size([32128, 512]).\n\tsize mismatch for decoder.block.0.layer.0.SelfAttention.q.weight: copying a param with shape torch.Size([512, 384]) from checkpoint, the shape in current model is torch.Size([512, 512]).\n\tsize mismatch for decoder.block.0.layer.0.SelfAttention.k.weight: copying a param with shape torch.Size([512, 384]) from checkpoint, the shape in current model is torch.Size([512, 512]).\n\tsize mismatch for decoder.block.0.layer.0.SelfAttention.v.weight: copying a param with shape torch.Size([512, 384]) from checkpoint, the shape in current model is torch.Size([512, 512]).\n\tsize mismatch for decoder.block.0.layer.0.SelfAttention.o.weight: copying a param with shape torch.Size([384, 512]) from checkpoint, the shape in current model is torch.Size([512, 512]).\n\tsize mismatch for decoder.block.0.layer.0.layer_norm.weight: copying a param with shape torch.Size([384]) from checkpoint, the shape in current model is torch.Size([512]).\n\tsize mismatch for decoder.block.0.layer.1.EncDecAttention.q.weight: copying a param with shape torch.Size([512, 384]) from checkpoint, the shape in current model is torch.Size([512, 512]).\n\tsize mismatch for decoder.block.0.layer.1.EncDecAttention.k.weight: copying a param with shape torch.Size([512, 384]) from checkpoint, the shape in current model is torch.Size([512, 512]).\n\tsize mismatch for decoder.block.0.layer.1.EncDecAttention.v.weight: copying a param with shape torch.Size([512, 384]) from checkpoint, the shape in current model is torch.Size([512, 512]).\n\tsize mismatch for decoder.block.0.layer.1.EncDecAttention.o.weight: copying a param with shape torch.Size([384, 512]) from checkpoint, the shape in current model is torch.Size([512, 512]).\n\tsize mismatch for decoder.block.0.layer.1.layer_norm.weight: copying a param with shape torch.Size([384]) from checkpoint, the shape in current model is torch.Size([512]).\n\tsize mismatch for decoder.block.0.layer.2.DenseReluDense.wi.weight: copying a param with shape torch.Size([1536, 384]) from checkpoint, the shape in current model is torch.Size([2048, 512]).\n\tsize mismatch for decoder.block.0.layer.2.DenseReluDense.wo.weight: copying a param with shape torch.Size([384, 1536]) from checkpoint, the shape in current model is torch.Size([512, 2048]).\n\tsize mismatch for decoder.block.0.layer.2.layer_norm.weight: copying a param with shape torch.Size([384]) from checkpoint, the shape in current model is torch.Size([512]).\n\tsize mismatch for decoder.block.1.layer.0.SelfAttention.q.weight: copying a param with shape torch.Size([512, 384]) from checkpoint, the shape in current model is torch.Size([512, 512]).\n\tsize mismatch for decoder.block.1.layer.0.SelfAttention.k.weight: copying a param with shape torch.Size([512, 384]) from checkpoint, the shape in current model is torch.Size([512, 512]).\n\tsize mismatch for decoder.block.1.layer.0.SelfAttention.v.weight: copying a param with shape torch.Size([512, 384]) from checkpoint, the shape in current model is torch.Size([512, 512]).\n\tsize mismatch for decoder.block.1.layer.0.SelfAttention.o.weight: copying a param with shape torch.Size([384, 512]) from checkpoint, the shape in current model is torch.Size([512, 512]).\n\tsize mismatch for decoder.block.1.layer.0.layer_norm.weight: copying a param with shape torch.Size([384]) from checkpoint, the shape in current model is torch.Size([512]).\n\tsize mismatch for decoder.block.1.layer.1.EncDecAttention.q.weight: copying a param with shape torch.Size([512, 384]) from checkpoint, the shape in current model is torch.Size([512, 512]).\n\tsize mismatch for decoder.block.1.layer.1.EncDecAttention.k.weight: copying a param with shape torch.Size([512, 384]) from checkpoint, the shape in current model is torch.Size([512, 512]).\n\tsize mismatch for decoder.block.1.layer.1.EncDecAttention.v.weight: copying a param with shape torch.Size([512, 384]) from checkpoint, the shape in current model is torch.Size([512, 512]).\n\tsize mismatch for decoder.block.1.layer.1.EncDecAttention.o.weight: copying a param with shape torch.Size([384, 512]) from checkpoint, the shape in current model is torch.Size([512, 512]).\n\tsize mismatch for decoder.block.1.layer.1.layer_norm.weight: copying a param with shape torch.Size([384]) from checkpoint, the shape in current model is torch.Size([512]).\n\tsize mismatch for decoder.block.1.layer.2.DenseReluDense.wi.weight: copying a param with shape torch.Size([1536, 384]) from checkpoint, the shape in current model is torch.Size([2048, 512]).\n\tsize mismatch for decoder.block.1.layer.2.DenseReluDense.wo.weight: copying a param with shape torch.Size([384, 1536]) from checkpoint, the shape in current model is torch.Size([512, 2048]).\n\tsize mismatch for decoder.block.1.layer.2.layer_norm.weight: copying a param with shape torch.Size([384]) from checkpoint, the shape in current model is torch.Size([512]).\n\tsize mismatch for decoder.block.2.layer.0.SelfAttention.q.weight: copying a param with shape torch.Size([512, 384]) from checkpoint, the shape in current model is torch.Size([512, 512]).\n\tsize mismatch for decoder.block.2.layer.0.SelfAttention.k.weight: copying a param with shape torch.Size([512, 384]) from checkpoint, the shape in current model is torch.Size([512, 512]).\n\tsize mismatch for decoder.block.2.layer.0.SelfAttention.v.weight: copying a param with shape torch.Size([512, 384]) from checkpoint, the shape in current model is torch.Size([512, 512]).\n\tsize mismatch for decoder.block.2.layer.0.SelfAttention.o.weight: copying a param with shape torch.Size([384, 512]) from checkpoint, the shape in current model is torch.Size([512, 512]).\n\tsize mismatch for decoder.block.2.layer.0.layer_norm.weight: copying a param with shape torch.Size([384]) from checkpoint, the shape in current model is torch.Size([512]).\n\tsize mismatch for decoder.block.2.layer.1.EncDecAttention.q.weight: copying a param with shape torch.Size([512, 384]) from checkpoint, the shape in current model is torch.Size([512, 512]).\n\tsize mismatch for decoder.block.2.layer.1.EncDecAttention.k.weight: copying a param with shape torch.Size([512, 384]) from checkpoint, the shape in current model is torch.Size([512, 512]).\n\tsize mismatch for decoder.block.2.layer.1.EncDecAttention.v.weight: copying a param with shape torch.Size([512, 384]) from checkpoint, the shape in current model is torch.Size([512, 512]).\n\tsize mismatch for decoder.block.2.layer.1.EncDecAttention.o.weight: copying a param with shape torch.Size([384, 512]) from checkpoint, the shape in current model is torch.Size([512, 512]).\n\tsize mismatch for decoder.block.2.layer.1.layer_norm.weight: copying a param with shape torch.Size([384]) from checkpoint, the shape in current model is torch.Size([512]).\n\tsize mismatch for decoder.block.2.layer.2.DenseReluDense.wi.weight: copying a param with shape torch.Size([1536, 384]) from checkpoint, the shape in current model is torch.Size([2048, 512]).\n\tsize mismatch for decoder.block.2.layer.2.DenseReluDense.wo.weight: copying a param with shape torch.Size([384, 1536]) from checkpoint, the shape in current model is torch.Size([512, 2048]).\n\tsize mismatch for decoder.block.2.layer.2.layer_norm.weight: copying a param with shape torch.Size([384]) from checkpoint, the shape in current model is torch.Size([512]).\n\tsize mismatch for decoder.block.3.layer.0.SelfAttention.q.weight: copying a param with shape torch.Size([512, 384]) from checkpoint, the shape in current model is torch.Size([512, 512]).\n\tsize mismatch for decoder.block.3.layer.0.SelfAttention.k.weight: copying a param with shape torch.Size([512, 384]) from checkpoint, the shape in current model is torch.Size([512, 512]).\n\tsize mismatch for decoder.block.3.layer.0.SelfAttention.v.weight: copying a param with shape torch.Size([512, 384]) from checkpoint, the shape in current model is torch.Size([512, 512]).\n\tsize mismatch for decoder.block.3.layer.0.SelfAttention.o.weight: copying a param with shape torch.Size([384, 512]) from checkpoint, the shape in current model is torch.Size([512, 512]).\n\tsize mismatch for decoder.block.3.layer.0.layer_norm.weight: copying a param with shape torch.Size([384]) from checkpoint, the shape in current model is torch.Size([512]).\n\tsize mismatch for decoder.block.3.layer.1.EncDecAttention.q.weight: copying a param with shape torch.Size([512, 384]) from checkpoint, the shape in current model is torch.Size([512, 512]).\n\tsize mismatch for decoder.block.3.layer.1.EncDecAttention.k.weight: copying a param with shape torch.Size([512, 384]) from checkpoint, the shape in current model is torch.Size([512, 512]).\n\tsize mismatch for decoder.block.3.layer.1.EncDecAttention.v.weight: copying a param with shape torch.Size([512, 384]) from checkpoint, the shape in current model is torch.Size([512, 512]).\n\tsize mismatch for decoder.block.3.layer.1.EncDecAttention.o.weight: copying a param with shape torch.Size([384, 512]) from checkpoint, the shape in current model is torch.Size([512, 512]).\n\tsize mismatch for decoder.block.3.layer.1.layer_norm.weight: copying a param with shape torch.Size([384]) from checkpoint, the shape in current model is torch.Size([512]).\n\tsize mismatch for decoder.block.3.layer.2.DenseReluDense.wi.weight: copying a param with shape torch.Size([1536, 384]) from checkpoint, the shape in current model is torch.Size([2048, 512]).\n\tsize mismatch for decoder.block.3.layer.2.DenseReluDense.wo.weight: copying a param with shape torch.Size([384, 1536]) from checkpoint, the shape in current model is torch.Size([512, 2048]).\n\tsize mismatch for decoder.block.3.layer.2.layer_norm.weight: copying a param with shape torch.Size([384]) from checkpoint, the shape in current model is torch.Size([512]).\n\tsize mismatch for decoder.final_layer_norm.weight: copying a param with shape torch.Size([384]) from checkpoint, the shape in current model is torch.Size([512]).\n\tsize mismatch for lm_head.weight: copying a param with shape torch.Size([32128, 384]) from checkpoint, the shape in current model is torch.Size([32128, 512]).",
     "output_type": "error",
     "traceback": [
      "\u001b[0;31m---------------------------------------------------------------------------\u001b[0m",
      "\u001b[0;31mRuntimeError\u001b[0m                              Traceback (most recent call last)",
      "Cell \u001b[0;32mIn[7], line 14\u001b[0m\n\u001b[1;32m      2\u001b[0m     action_model \u001b[38;5;241m=\u001b[39m train_model(\n\u001b[1;32m      3\u001b[0m         action_model,\n\u001b[1;32m      4\u001b[0m         optimizer,\n\u001b[0;32m   (...)\u001b[0m\n\u001b[1;32m     10\u001b[0m         save\u001b[38;5;241m=\u001b[39m\u001b[38;5;124m\"\u001b[39m\u001b[38;5;124m../../models/multixoz_action_model.pth\u001b[39m\u001b[38;5;124m\"\u001b[39m\n\u001b[1;32m     11\u001b[0m     )\n\u001b[1;32m     13\u001b[0m \u001b[38;5;28;01melse\u001b[39;00m:\n\u001b[0;32m---> 14\u001b[0m     \u001b[43maction_model\u001b[49m\u001b[38;5;241;43m.\u001b[39;49m\u001b[43mload_state_dict\u001b[49m\u001b[43m(\u001b[49m\u001b[43mtorch\u001b[49m\u001b[38;5;241;43m.\u001b[39;49m\u001b[43mload\u001b[49m\u001b[43m(\u001b[49m\u001b[38;5;124;43m\"\u001b[39;49m\u001b[38;5;124;43m../../models/multixoz_action_model.pth\u001b[39;49m\u001b[38;5;124;43m\"\u001b[39;49m\u001b[43m)\u001b[49m\u001b[43m)\u001b[49m\n",
      "File \u001b[0;32m~/energy-corporation/.venv/lib/python3.10/site-packages/torch/nn/modules/module.py:2584\u001b[0m, in \u001b[0;36mModule.load_state_dict\u001b[0;34m(self, state_dict, strict, assign)\u001b[0m\n\u001b[1;32m   2576\u001b[0m         error_msgs\u001b[38;5;241m.\u001b[39minsert(\n\u001b[1;32m   2577\u001b[0m             \u001b[38;5;241m0\u001b[39m,\n\u001b[1;32m   2578\u001b[0m             \u001b[38;5;124m\"\u001b[39m\u001b[38;5;124mMissing key(s) in state_dict: \u001b[39m\u001b[38;5;132;01m{}\u001b[39;00m\u001b[38;5;124m. \u001b[39m\u001b[38;5;124m\"\u001b[39m\u001b[38;5;241m.\u001b[39mformat(\n\u001b[1;32m   2579\u001b[0m                 \u001b[38;5;124m\"\u001b[39m\u001b[38;5;124m, \u001b[39m\u001b[38;5;124m\"\u001b[39m\u001b[38;5;241m.\u001b[39mjoin(\u001b[38;5;124mf\u001b[39m\u001b[38;5;124m'\u001b[39m\u001b[38;5;124m\"\u001b[39m\u001b[38;5;132;01m{\u001b[39;00mk\u001b[38;5;132;01m}\u001b[39;00m\u001b[38;5;124m\"\u001b[39m\u001b[38;5;124m'\u001b[39m \u001b[38;5;28;01mfor\u001b[39;00m k \u001b[38;5;129;01min\u001b[39;00m missing_keys)\n\u001b[1;32m   2580\u001b[0m             ),\n\u001b[1;32m   2581\u001b[0m         )\n\u001b[1;32m   2583\u001b[0m \u001b[38;5;28;01mif\u001b[39;00m \u001b[38;5;28mlen\u001b[39m(error_msgs) \u001b[38;5;241m>\u001b[39m \u001b[38;5;241m0\u001b[39m:\n\u001b[0;32m-> 2584\u001b[0m     \u001b[38;5;28;01mraise\u001b[39;00m \u001b[38;5;167;01mRuntimeError\u001b[39;00m(\n\u001b[1;32m   2585\u001b[0m         \u001b[38;5;124m\"\u001b[39m\u001b[38;5;124mError(s) in loading state_dict for \u001b[39m\u001b[38;5;132;01m{}\u001b[39;00m\u001b[38;5;124m:\u001b[39m\u001b[38;5;130;01m\\n\u001b[39;00m\u001b[38;5;130;01m\\t\u001b[39;00m\u001b[38;5;132;01m{}\u001b[39;00m\u001b[38;5;124m\"\u001b[39m\u001b[38;5;241m.\u001b[39mformat(\n\u001b[1;32m   2586\u001b[0m             \u001b[38;5;28mself\u001b[39m\u001b[38;5;241m.\u001b[39m\u001b[38;5;18m__class__\u001b[39m\u001b[38;5;241m.\u001b[39m\u001b[38;5;18m__name__\u001b[39m, \u001b[38;5;124m\"\u001b[39m\u001b[38;5;130;01m\\n\u001b[39;00m\u001b[38;5;130;01m\\t\u001b[39;00m\u001b[38;5;124m\"\u001b[39m\u001b[38;5;241m.\u001b[39mjoin(error_msgs)\n\u001b[1;32m   2587\u001b[0m         )\n\u001b[1;32m   2588\u001b[0m     )\n\u001b[1;32m   2589\u001b[0m \u001b[38;5;28;01mreturn\u001b[39;00m _IncompatibleKeys(missing_keys, unexpected_keys)\n",
      "\u001b[0;31mRuntimeError\u001b[0m: Error(s) in loading state_dict for T5ForConditionalGeneration:\n\tMissing key(s) in state_dict: \"encoder.block.4.layer.0.SelfAttention.q.weight\", \"encoder.block.4.layer.0.SelfAttention.k.weight\", \"encoder.block.4.layer.0.SelfAttention.v.weight\", \"encoder.block.4.layer.0.SelfAttention.o.weight\", \"encoder.block.4.layer.0.layer_norm.weight\", \"encoder.block.4.layer.1.DenseReluDense.wi.weight\", \"encoder.block.4.layer.1.DenseReluDense.wo.weight\", \"encoder.block.4.layer.1.layer_norm.weight\", \"encoder.block.5.layer.0.SelfAttention.q.weight\", \"encoder.block.5.layer.0.SelfAttention.k.weight\", \"encoder.block.5.layer.0.SelfAttention.v.weight\", \"encoder.block.5.layer.0.SelfAttention.o.weight\", \"encoder.block.5.layer.0.layer_norm.weight\", \"encoder.block.5.layer.1.DenseReluDense.wi.weight\", \"encoder.block.5.layer.1.DenseReluDense.wo.weight\", \"encoder.block.5.layer.1.layer_norm.weight\", \"decoder.block.4.layer.0.SelfAttention.q.weight\", \"decoder.block.4.layer.0.SelfAttention.k.weight\", \"decoder.block.4.layer.0.SelfAttention.v.weight\", \"decoder.block.4.layer.0.SelfAttention.o.weight\", \"decoder.block.4.layer.0.layer_norm.weight\", \"decoder.block.4.layer.1.EncDecAttention.q.weight\", \"decoder.block.4.layer.1.EncDecAttention.k.weight\", \"decoder.block.4.layer.1.EncDecAttention.v.weight\", \"decoder.block.4.layer.1.EncDecAttention.o.weight\", \"decoder.block.4.layer.1.layer_norm.weight\", \"decoder.block.4.layer.2.DenseReluDense.wi.weight\", \"decoder.block.4.layer.2.DenseReluDense.wo.weight\", \"decoder.block.4.layer.2.layer_norm.weight\", \"decoder.block.5.layer.0.SelfAttention.q.weight\", \"decoder.block.5.layer.0.SelfAttention.k.weight\", \"decoder.block.5.layer.0.SelfAttention.v.weight\", \"decoder.block.5.layer.0.SelfAttention.o.weight\", \"decoder.block.5.layer.0.layer_norm.weight\", \"decoder.block.5.layer.1.EncDecAttention.q.weight\", \"decoder.block.5.layer.1.EncDecAttention.k.weight\", \"decoder.block.5.layer.1.EncDecAttention.v.weight\", \"decoder.block.5.layer.1.EncDecAttention.o.weight\", \"decoder.block.5.layer.1.layer_norm.weight\", \"decoder.block.5.layer.2.DenseReluDense.wi.weight\", \"decoder.block.5.layer.2.DenseReluDense.wo.weight\", \"decoder.block.5.layer.2.layer_norm.weight\". \n\tsize mismatch for shared.weight: copying a param with shape torch.Size([32128, 384]) from checkpoint, the shape in current model is torch.Size([32128, 512]).\n\tsize mismatch for encoder.embed_tokens.weight: copying a param with shape torch.Size([32128, 384]) from checkpoint, the shape in current model is torch.Size([32128, 512]).\n\tsize mismatch for encoder.block.0.layer.0.SelfAttention.q.weight: copying a param with shape torch.Size([512, 384]) from checkpoint, the shape in current model is torch.Size([512, 512]).\n\tsize mismatch for encoder.block.0.layer.0.SelfAttention.k.weight: copying a param with shape torch.Size([512, 384]) from checkpoint, the shape in current model is torch.Size([512, 512]).\n\tsize mismatch for encoder.block.0.layer.0.SelfAttention.v.weight: copying a param with shape torch.Size([512, 384]) from checkpoint, the shape in current model is torch.Size([512, 512]).\n\tsize mismatch for encoder.block.0.layer.0.SelfAttention.o.weight: copying a param with shape torch.Size([384, 512]) from checkpoint, the shape in current model is torch.Size([512, 512]).\n\tsize mismatch for encoder.block.0.layer.0.layer_norm.weight: copying a param with shape torch.Size([384]) from checkpoint, the shape in current model is torch.Size([512]).\n\tsize mismatch for encoder.block.0.layer.1.DenseReluDense.wi.weight: copying a param with shape torch.Size([1536, 384]) from checkpoint, the shape in current model is torch.Size([2048, 512]).\n\tsize mismatch for encoder.block.0.layer.1.DenseReluDense.wo.weight: copying a param with shape torch.Size([384, 1536]) from checkpoint, the shape in current model is torch.Size([512, 2048]).\n\tsize mismatch for encoder.block.0.layer.1.layer_norm.weight: copying a param with shape torch.Size([384]) from checkpoint, the shape in current model is torch.Size([512]).\n\tsize mismatch for encoder.block.1.layer.0.SelfAttention.q.weight: copying a param with shape torch.Size([512, 384]) from checkpoint, the shape in current model is torch.Size([512, 512]).\n\tsize mismatch for encoder.block.1.layer.0.SelfAttention.k.weight: copying a param with shape torch.Size([512, 384]) from checkpoint, the shape in current model is torch.Size([512, 512]).\n\tsize mismatch for encoder.block.1.layer.0.SelfAttention.v.weight: copying a param with shape torch.Size([512, 384]) from checkpoint, the shape in current model is torch.Size([512, 512]).\n\tsize mismatch for encoder.block.1.layer.0.SelfAttention.o.weight: copying a param with shape torch.Size([384, 512]) from checkpoint, the shape in current model is torch.Size([512, 512]).\n\tsize mismatch for encoder.block.1.layer.0.layer_norm.weight: copying a param with shape torch.Size([384]) from checkpoint, the shape in current model is torch.Size([512]).\n\tsize mismatch for encoder.block.1.layer.1.DenseReluDense.wi.weight: copying a param with shape torch.Size([1536, 384]) from checkpoint, the shape in current model is torch.Size([2048, 512]).\n\tsize mismatch for encoder.block.1.layer.1.DenseReluDense.wo.weight: copying a param with shape torch.Size([384, 1536]) from checkpoint, the shape in current model is torch.Size([512, 2048]).\n\tsize mismatch for encoder.block.1.layer.1.layer_norm.weight: copying a param with shape torch.Size([384]) from checkpoint, the shape in current model is torch.Size([512]).\n\tsize mismatch for encoder.block.2.layer.0.SelfAttention.q.weight: copying a param with shape torch.Size([512, 384]) from checkpoint, the shape in current model is torch.Size([512, 512]).\n\tsize mismatch for encoder.block.2.layer.0.SelfAttention.k.weight: copying a param with shape torch.Size([512, 384]) from checkpoint, the shape in current model is torch.Size([512, 512]).\n\tsize mismatch for encoder.block.2.layer.0.SelfAttention.v.weight: copying a param with shape torch.Size([512, 384]) from checkpoint, the shape in current model is torch.Size([512, 512]).\n\tsize mismatch for encoder.block.2.layer.0.SelfAttention.o.weight: copying a param with shape torch.Size([384, 512]) from checkpoint, the shape in current model is torch.Size([512, 512]).\n\tsize mismatch for encoder.block.2.layer.0.layer_norm.weight: copying a param with shape torch.Size([384]) from checkpoint, the shape in current model is torch.Size([512]).\n\tsize mismatch for encoder.block.2.layer.1.DenseReluDense.wi.weight: copying a param with shape torch.Size([1536, 384]) from checkpoint, the shape in current model is torch.Size([2048, 512]).\n\tsize mismatch for encoder.block.2.layer.1.DenseReluDense.wo.weight: copying a param with shape torch.Size([384, 1536]) from checkpoint, the shape in current model is torch.Size([512, 2048]).\n\tsize mismatch for encoder.block.2.layer.1.layer_norm.weight: copying a param with shape torch.Size([384]) from checkpoint, the shape in current model is torch.Size([512]).\n\tsize mismatch for encoder.block.3.layer.0.SelfAttention.q.weight: copying a param with shape torch.Size([512, 384]) from checkpoint, the shape in current model is torch.Size([512, 512]).\n\tsize mismatch for encoder.block.3.layer.0.SelfAttention.k.weight: copying a param with shape torch.Size([512, 384]) from checkpoint, the shape in current model is torch.Size([512, 512]).\n\tsize mismatch for encoder.block.3.layer.0.SelfAttention.v.weight: copying a param with shape torch.Size([512, 384]) from checkpoint, the shape in current model is torch.Size([512, 512]).\n\tsize mismatch for encoder.block.3.layer.0.SelfAttention.o.weight: copying a param with shape torch.Size([384, 512]) from checkpoint, the shape in current model is torch.Size([512, 512]).\n\tsize mismatch for encoder.block.3.layer.0.layer_norm.weight: copying a param with shape torch.Size([384]) from checkpoint, the shape in current model is torch.Size([512]).\n\tsize mismatch for encoder.block.3.layer.1.DenseReluDense.wi.weight: copying a param with shape torch.Size([1536, 384]) from checkpoint, the shape in current model is torch.Size([2048, 512]).\n\tsize mismatch for encoder.block.3.layer.1.DenseReluDense.wo.weight: copying a param with shape torch.Size([384, 1536]) from checkpoint, the shape in current model is torch.Size([512, 2048]).\n\tsize mismatch for encoder.block.3.layer.1.layer_norm.weight: copying a param with shape torch.Size([384]) from checkpoint, the shape in current model is torch.Size([512]).\n\tsize mismatch for encoder.final_layer_norm.weight: copying a param with shape torch.Size([384]) from checkpoint, the shape in current model is torch.Size([512]).\n\tsize mismatch for decoder.embed_tokens.weight: copying a param with shape torch.Size([32128, 384]) from checkpoint, the shape in current model is torch.Size([32128, 512]).\n\tsize mismatch for decoder.block.0.layer.0.SelfAttention.q.weight: copying a param with shape torch.Size([512, 384]) from checkpoint, the shape in current model is torch.Size([512, 512]).\n\tsize mismatch for decoder.block.0.layer.0.SelfAttention.k.weight: copying a param with shape torch.Size([512, 384]) from checkpoint, the shape in current model is torch.Size([512, 512]).\n\tsize mismatch for decoder.block.0.layer.0.SelfAttention.v.weight: copying a param with shape torch.Size([512, 384]) from checkpoint, the shape in current model is torch.Size([512, 512]).\n\tsize mismatch for decoder.block.0.layer.0.SelfAttention.o.weight: copying a param with shape torch.Size([384, 512]) from checkpoint, the shape in current model is torch.Size([512, 512]).\n\tsize mismatch for decoder.block.0.layer.0.layer_norm.weight: copying a param with shape torch.Size([384]) from checkpoint, the shape in current model is torch.Size([512]).\n\tsize mismatch for decoder.block.0.layer.1.EncDecAttention.q.weight: copying a param with shape torch.Size([512, 384]) from checkpoint, the shape in current model is torch.Size([512, 512]).\n\tsize mismatch for decoder.block.0.layer.1.EncDecAttention.k.weight: copying a param with shape torch.Size([512, 384]) from checkpoint, the shape in current model is torch.Size([512, 512]).\n\tsize mismatch for decoder.block.0.layer.1.EncDecAttention.v.weight: copying a param with shape torch.Size([512, 384]) from checkpoint, the shape in current model is torch.Size([512, 512]).\n\tsize mismatch for decoder.block.0.layer.1.EncDecAttention.o.weight: copying a param with shape torch.Size([384, 512]) from checkpoint, the shape in current model is torch.Size([512, 512]).\n\tsize mismatch for decoder.block.0.layer.1.layer_norm.weight: copying a param with shape torch.Size([384]) from checkpoint, the shape in current model is torch.Size([512]).\n\tsize mismatch for decoder.block.0.layer.2.DenseReluDense.wi.weight: copying a param with shape torch.Size([1536, 384]) from checkpoint, the shape in current model is torch.Size([2048, 512]).\n\tsize mismatch for decoder.block.0.layer.2.DenseReluDense.wo.weight: copying a param with shape torch.Size([384, 1536]) from checkpoint, the shape in current model is torch.Size([512, 2048]).\n\tsize mismatch for decoder.block.0.layer.2.layer_norm.weight: copying a param with shape torch.Size([384]) from checkpoint, the shape in current model is torch.Size([512]).\n\tsize mismatch for decoder.block.1.layer.0.SelfAttention.q.weight: copying a param with shape torch.Size([512, 384]) from checkpoint, the shape in current model is torch.Size([512, 512]).\n\tsize mismatch for decoder.block.1.layer.0.SelfAttention.k.weight: copying a param with shape torch.Size([512, 384]) from checkpoint, the shape in current model is torch.Size([512, 512]).\n\tsize mismatch for decoder.block.1.layer.0.SelfAttention.v.weight: copying a param with shape torch.Size([512, 384]) from checkpoint, the shape in current model is torch.Size([512, 512]).\n\tsize mismatch for decoder.block.1.layer.0.SelfAttention.o.weight: copying a param with shape torch.Size([384, 512]) from checkpoint, the shape in current model is torch.Size([512, 512]).\n\tsize mismatch for decoder.block.1.layer.0.layer_norm.weight: copying a param with shape torch.Size([384]) from checkpoint, the shape in current model is torch.Size([512]).\n\tsize mismatch for decoder.block.1.layer.1.EncDecAttention.q.weight: copying a param with shape torch.Size([512, 384]) from checkpoint, the shape in current model is torch.Size([512, 512]).\n\tsize mismatch for decoder.block.1.layer.1.EncDecAttention.k.weight: copying a param with shape torch.Size([512, 384]) from checkpoint, the shape in current model is torch.Size([512, 512]).\n\tsize mismatch for decoder.block.1.layer.1.EncDecAttention.v.weight: copying a param with shape torch.Size([512, 384]) from checkpoint, the shape in current model is torch.Size([512, 512]).\n\tsize mismatch for decoder.block.1.layer.1.EncDecAttention.o.weight: copying a param with shape torch.Size([384, 512]) from checkpoint, the shape in current model is torch.Size([512, 512]).\n\tsize mismatch for decoder.block.1.layer.1.layer_norm.weight: copying a param with shape torch.Size([384]) from checkpoint, the shape in current model is torch.Size([512]).\n\tsize mismatch for decoder.block.1.layer.2.DenseReluDense.wi.weight: copying a param with shape torch.Size([1536, 384]) from checkpoint, the shape in current model is torch.Size([2048, 512]).\n\tsize mismatch for decoder.block.1.layer.2.DenseReluDense.wo.weight: copying a param with shape torch.Size([384, 1536]) from checkpoint, the shape in current model is torch.Size([512, 2048]).\n\tsize mismatch for decoder.block.1.layer.2.layer_norm.weight: copying a param with shape torch.Size([384]) from checkpoint, the shape in current model is torch.Size([512]).\n\tsize mismatch for decoder.block.2.layer.0.SelfAttention.q.weight: copying a param with shape torch.Size([512, 384]) from checkpoint, the shape in current model is torch.Size([512, 512]).\n\tsize mismatch for decoder.block.2.layer.0.SelfAttention.k.weight: copying a param with shape torch.Size([512, 384]) from checkpoint, the shape in current model is torch.Size([512, 512]).\n\tsize mismatch for decoder.block.2.layer.0.SelfAttention.v.weight: copying a param with shape torch.Size([512, 384]) from checkpoint, the shape in current model is torch.Size([512, 512]).\n\tsize mismatch for decoder.block.2.layer.0.SelfAttention.o.weight: copying a param with shape torch.Size([384, 512]) from checkpoint, the shape in current model is torch.Size([512, 512]).\n\tsize mismatch for decoder.block.2.layer.0.layer_norm.weight: copying a param with shape torch.Size([384]) from checkpoint, the shape in current model is torch.Size([512]).\n\tsize mismatch for decoder.block.2.layer.1.EncDecAttention.q.weight: copying a param with shape torch.Size([512, 384]) from checkpoint, the shape in current model is torch.Size([512, 512]).\n\tsize mismatch for decoder.block.2.layer.1.EncDecAttention.k.weight: copying a param with shape torch.Size([512, 384]) from checkpoint, the shape in current model is torch.Size([512, 512]).\n\tsize mismatch for decoder.block.2.layer.1.EncDecAttention.v.weight: copying a param with shape torch.Size([512, 384]) from checkpoint, the shape in current model is torch.Size([512, 512]).\n\tsize mismatch for decoder.block.2.layer.1.EncDecAttention.o.weight: copying a param with shape torch.Size([384, 512]) from checkpoint, the shape in current model is torch.Size([512, 512]).\n\tsize mismatch for decoder.block.2.layer.1.layer_norm.weight: copying a param with shape torch.Size([384]) from checkpoint, the shape in current model is torch.Size([512]).\n\tsize mismatch for decoder.block.2.layer.2.DenseReluDense.wi.weight: copying a param with shape torch.Size([1536, 384]) from checkpoint, the shape in current model is torch.Size([2048, 512]).\n\tsize mismatch for decoder.block.2.layer.2.DenseReluDense.wo.weight: copying a param with shape torch.Size([384, 1536]) from checkpoint, the shape in current model is torch.Size([512, 2048]).\n\tsize mismatch for decoder.block.2.layer.2.layer_norm.weight: copying a param with shape torch.Size([384]) from checkpoint, the shape in current model is torch.Size([512]).\n\tsize mismatch for decoder.block.3.layer.0.SelfAttention.q.weight: copying a param with shape torch.Size([512, 384]) from checkpoint, the shape in current model is torch.Size([512, 512]).\n\tsize mismatch for decoder.block.3.layer.0.SelfAttention.k.weight: copying a param with shape torch.Size([512, 384]) from checkpoint, the shape in current model is torch.Size([512, 512]).\n\tsize mismatch for decoder.block.3.layer.0.SelfAttention.v.weight: copying a param with shape torch.Size([512, 384]) from checkpoint, the shape in current model is torch.Size([512, 512]).\n\tsize mismatch for decoder.block.3.layer.0.SelfAttention.o.weight: copying a param with shape torch.Size([384, 512]) from checkpoint, the shape in current model is torch.Size([512, 512]).\n\tsize mismatch for decoder.block.3.layer.0.layer_norm.weight: copying a param with shape torch.Size([384]) from checkpoint, the shape in current model is torch.Size([512]).\n\tsize mismatch for decoder.block.3.layer.1.EncDecAttention.q.weight: copying a param with shape torch.Size([512, 384]) from checkpoint, the shape in current model is torch.Size([512, 512]).\n\tsize mismatch for decoder.block.3.layer.1.EncDecAttention.k.weight: copying a param with shape torch.Size([512, 384]) from checkpoint, the shape in current model is torch.Size([512, 512]).\n\tsize mismatch for decoder.block.3.layer.1.EncDecAttention.v.weight: copying a param with shape torch.Size([512, 384]) from checkpoint, the shape in current model is torch.Size([512, 512]).\n\tsize mismatch for decoder.block.3.layer.1.EncDecAttention.o.weight: copying a param with shape torch.Size([384, 512]) from checkpoint, the shape in current model is torch.Size([512, 512]).\n\tsize mismatch for decoder.block.3.layer.1.layer_norm.weight: copying a param with shape torch.Size([384]) from checkpoint, the shape in current model is torch.Size([512]).\n\tsize mismatch for decoder.block.3.layer.2.DenseReluDense.wi.weight: copying a param with shape torch.Size([1536, 384]) from checkpoint, the shape in current model is torch.Size([2048, 512]).\n\tsize mismatch for decoder.block.3.layer.2.DenseReluDense.wo.weight: copying a param with shape torch.Size([384, 1536]) from checkpoint, the shape in current model is torch.Size([512, 2048]).\n\tsize mismatch for decoder.block.3.layer.2.layer_norm.weight: copying a param with shape torch.Size([384]) from checkpoint, the shape in current model is torch.Size([512]).\n\tsize mismatch for decoder.final_layer_norm.weight: copying a param with shape torch.Size([384]) from checkpoint, the shape in current model is torch.Size([512]).\n\tsize mismatch for lm_head.weight: copying a param with shape torch.Size([32128, 384]) from checkpoint, the shape in current model is torch.Size([32128, 512])."
     ]
    }
   ],
   "source": [
    "if USE_TRAINED_MODEL:\n",
    "    action_model = train_model(\n",
    "        action_model,\n",
    "        optimizer,\n",
    "        scheduler,\n",
    "        train_loader_action,\n",
    "        valid_loader_action,\n",
    "        num_epochs=num_epochs,\n",
    "        device=DEVICE,\n",
    "        save=\"../../models/multixoz_action_model.pth\"\n",
    "    )\n",
    "    \n",
    "else:\n",
    "    action_model.load_state_dict(torch.load(\"../../models/multixoz_action_model.pth\"))"
   ]
  },
  {
   "cell_type": "code",
   "execution_count": null,
   "id": "f7a4a5da",
   "metadata": {},
   "outputs": [],
   "source": [
    "generated_action_train = inference_model(\n",
    "    action_model, \n",
    "    tokenizer, \n",
    "    train_action_dataset.actions, \n",
    "    MAX_LENGTH_ENCODER_ACTION, \n",
    "    MAX_LENGTH_DECODER_ACTION, \n",
    "    DEVICE,\n",
    "    batch_size=1024\n",
    ") \n",
    "\n",
    "generated_action_valid = inference_model(\n",
    "    action_model, \n",
    "    tokenizer, \n",
    "    valid_action_dataset.actions, \n",
    "    MAX_LENGTH_ENCODER_ACTION, \n",
    "    MAX_LENGTH_DECODER_ACTION, \n",
    "    DEVICE,\n",
    "    batch_size=1024\n",
    ") "
   ]
  },
  {
   "cell_type": "code",
   "execution_count": null,
   "id": "c7cfefb9",
   "metadata": {},
   "outputs": [
    {
     "name": "stdout",
     "output_type": "stream",
     "text": [
      "User Inputs: USER: Sounds good, could I get that phone number? Also, could you recommend me an expensive hotel? SYS: Bedouin's phone is 01223367660. As far as hotels go, I recommend the University Arms Hotel in the center of town.\n",
      "Generated Action: Hotel-Recommend(area=center of town, name=Bedouin's, phone=01223367660) |\n",
      "True Action: Hotel-Recommend(area=center of town, name=the University Arms Hotel) | Restaurant-Inform(name=Bedouin, phone=01223367660)\n"
     ]
    }
   ],
   "source": [
    "index = 2\n",
    "inputs = train_action_dataset.inputs[index]\n",
    "\n",
    "generated_action = inference_model(\n",
    "    action_model,\n",
    "    tokenizer,\n",
    "    inputs,\n",
    "    MAX_LENGTH_ENCODER_ACTION,\n",
    "    MAX_LENGTH_DECODER_ACTION,\n",
    "    DEVICE\n",
    ")\n",
    "\n",
    "print(\"User Inputs:\", inputs)\n",
    "print(\"Generated Action:\", generated_action)\n",
    "print(\"True Action:\", train_action_dataset.actions[index])"
   ]
  }
 ],
 "metadata": {
  "kernelspec": {
   "display_name": ".venv",
   "language": "python",
   "name": "python3"
  },
  "language_info": {
   "codemirror_mode": {
    "name": "ipython",
    "version": 3
   },
   "file_extension": ".py",
   "mimetype": "text/x-python",
   "name": "python",
   "nbconvert_exporter": "python",
   "pygments_lexer": "ipython3",
   "version": "3.10.12"
  }
 },
 "nbformat": 4,
 "nbformat_minor": 5
}
