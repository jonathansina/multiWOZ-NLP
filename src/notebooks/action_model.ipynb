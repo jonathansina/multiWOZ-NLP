{
 "cells": [
  {
   "cell_type": "code",
   "execution_count": null,
   "id": "aa4e07fb",
   "metadata": {},
   "outputs": [],
   "source": [
    "import sys\n",
    "import pickle\n",
    "sys.path.append(\"..\")\n",
    "\n",
    "import torch\n",
    "from torch.optim import AdamW\n",
    "from transformers import T5Tokenizer\n",
    "from torch.utils.data import DataLoader\n",
    "from transformers import T5ForConditionalGeneration\n",
    "\n",
    "from datasets import load_dataset\n",
    "from transformers import get_linear_schedule_with_warmup\n",
    "\n",
    "from scripts.global_vars import (\n",
    "    DEVICE, \n",
    "    MAX_TURNS,\n",
    "    BATCH_SIZE, \n",
    "    MODEL_NAME,\n",
    "    USE_SAVE_CHECKPOINT,\n",
    "    DELEXICALIZATION_ACTION,\n",
    "    MAX_LENGTH_ENCODER_ACTION, \n",
    "    MAX_LENGTH_DECODER_ACTION\n",
    ")\n",
    "\n",
    "from scripts.pytorch.training import train_model\n",
    "from scripts.pytorch.inference import inference_model\n",
    "from scripts.utils import find_zero_percentage, plot_model_performance\n",
    "from scripts.preprocessing.action import ActionDataset, get_evaluation_score"
   ]
  },
  {
   "cell_type": "markdown",
   "id": "9e3503ba",
   "metadata": {},
   "source": [
    "___\n",
    "### **STAGE 1. Dataset Loading and Preprocessing**\n",
    "___"
   ]
  },
  {
   "cell_type": "code",
   "execution_count": null,
   "id": "858ee728",
   "metadata": {},
   "outputs": [],
   "source": [
    "try: \n",
    "    dataset = pickle.load(open(\"../../data/dataset.pkl\", \"rb\"))\n",
    "except FileNotFoundError:\n",
    "    dataset = load_dataset(\"multi_woz_v22\", trust_remote_code=True)\n",
    "\n",
    "train_data = dataset['train']\n",
    "val_data = dataset['validation']"
   ]
  },
  {
   "cell_type": "code",
   "execution_count": 4,
   "id": "e7261d13",
   "metadata": {},
   "outputs": [
    {
     "name": "stderr",
     "output_type": "stream",
     "text": [
      "Processing dialogues: 100%|██████████| 8437/8437 [00:04<00:00, 1780.05it/s]\n",
      "Processing dialogues: 100%|██████████| 1000/1000 [00:00<00:00, 1621.24it/s]"
     ]
    },
    {
     "name": "stdout",
     "output_type": "stream",
     "text": [
      "Inputs IDs shape: torch.Size([256, 64])\n",
      "Action IDs shape: torch.Size([256, 32])\n"
     ]
    },
    {
     "name": "stderr",
     "output_type": "stream",
     "text": [
      "\n"
     ]
    }
   ],
   "source": [
    "tokenizer = T5Tokenizer.from_pretrained(\n",
    "    legacy=True,\n",
    "    pretrained_model_name_or_path=MODEL_NAME\n",
    ")\n",
    "\n",
    "train_action_dataset = ActionDataset(\n",
    "    data=dataset['train'],\n",
    "    tokenizer=tokenizer,\n",
    "    max_turns=MAX_TURNS,\n",
    "    max_output_len=MAX_LENGTH_DECODER_ACTION,\n",
    "    max_input_len=MAX_LENGTH_ENCODER_ACTION,\n",
    "    delex=DELEXICALIZATION_ACTION\n",
    "    \n",
    ")\n",
    "\n",
    "valid_action_dataset = ActionDataset(\n",
    "    data=dataset['validation'],\n",
    "    tokenizer=tokenizer,\n",
    "    max_turns=MAX_TURNS,\n",
    "    max_output_len=MAX_LENGTH_DECODER_ACTION,\n",
    "    max_input_len=MAX_LENGTH_ENCODER_ACTION,\n",
    "    delex=DELEXICALIZATION_ACTION\n",
    ")\n",
    "\n",
    "train_loader_action = DataLoader(train_action_dataset, batch_size=BATCH_SIZE, shuffle=True)\n",
    "valid_loader_action = DataLoader(valid_action_dataset, batch_size=BATCH_SIZE)\n",
    "\n",
    "batch = next(iter(train_loader_action))\n",
    "print(\"Inputs IDs shape:\", batch['encoder_input_ids'].shape)\n",
    "print(\"Action IDs shape:\", batch['decoder_input_ids'].shape)"
   ]
  },
  {
   "cell_type": "code",
   "execution_count": 5,
   "id": "afec8fee",
   "metadata": {},
   "outputs": [],
   "source": [
    "train_encoder_zero = find_zero_percentage(train_loader_action, \"encoder_input_ids\", MAX_LENGTH_ENCODER_ACTION)\n",
    "train_decoder_zero = find_zero_percentage(train_loader_action, \"decoder_input_ids\", MAX_LENGTH_DECODER_ACTION)\n",
    "valid_encoder_zero = find_zero_percentage(valid_loader_action, \"encoder_input_ids\", MAX_LENGTH_ENCODER_ACTION)\n",
    "valid_decoder_zero = find_zero_percentage(valid_loader_action, \"decoder_input_ids\", MAX_LENGTH_DECODER_ACTION)"
   ]
  },
  {
   "cell_type": "code",
   "execution_count": 6,
   "id": "c9cc298a",
   "metadata": {},
   "outputs": [
    {
     "name": "stdout",
     "output_type": "stream",
     "text": [
      "Train Encoder Zero Percentage: 33.785223960876465 \n",
      "Train Decoder Zero Percentage: 37.41556704044342 \n",
      "Valid Encoder Zero Percentage: 32.38596022129059 \n",
      "Valid Decoder Zero Percentage: 36.70688271522522\n"
     ]
    }
   ],
   "source": [
    "print(\n",
    "    \"Train Encoder Zero Percentage:\", train_encoder_zero * 100,\n",
    "    \"\\nTrain Decoder Zero Percentage:\", train_decoder_zero * 100,\n",
    "    \"\\nValid Encoder Zero Percentage:\", valid_encoder_zero * 100,\n",
    "    \"\\nValid Decoder Zero Percentage:\", valid_decoder_zero * 100\n",
    ")"
   ]
  },
  {
   "cell_type": "markdown",
   "id": "c238ad95",
   "metadata": {},
   "source": [
    "___\n",
    "### **STAGE 2. Model Training**\n",
    "___"
   ]
  },
  {
   "cell_type": "code",
   "execution_count": 7,
   "id": "10fc5f64",
   "metadata": {},
   "outputs": [],
   "source": [
    "num_epochs = 5\n",
    "num_training_steps = len(train_loader_action) * num_epochs\n",
    "num_warmup_steps = num_training_steps // 10\n",
    "\n",
    "action_model = T5ForConditionalGeneration.from_pretrained(\n",
    "    pretrained_model_name_or_path=MODEL_NAME\n",
    ").to(DEVICE)\n",
    "\n",
    "optimizer = AdamW(\n",
    "    action_model.parameters(),\n",
    "    lr=1e-3,\n",
    "    eps=1e-8\n",
    ")\n",
    "\n",
    "scheduler = get_linear_schedule_with_warmup(\n",
    "    optimizer,\n",
    "    num_warmup_steps=num_warmup_steps,\n",
    "    num_training_steps=num_training_steps\n",
    ")"
   ]
  },
  {
   "cell_type": "code",
   "execution_count": 8,
   "id": "8b15418f",
   "metadata": {},
   "outputs": [],
   "source": [
    "if not USE_SAVE_CHECKPOINT:\n",
    "    action_model = train_model(\n",
    "        action_model,\n",
    "        optimizer,\n",
    "        scheduler,\n",
    "        train_loader_action,\n",
    "        valid_loader_action,\n",
    "        num_epochs=num_epochs,\n",
    "        device=DEVICE,\n",
    "        save=f\"../../models/multixoz_action_model.pth\"\n",
    "    )\n",
    "    \n",
    "else:\n",
    "    action_model.load_state_dict(torch.load(\"../../models/multixoz_action_model.pth\", weights_only=True, map_location=torch.device(DEVICE)))"
   ]
  },
  {
   "cell_type": "markdown",
   "id": "a478489c",
   "metadata": {},
   "source": [
    "___\n",
    "### **STAGE 3. Model Evaluation**\n",
    "___"
   ]
  },
  {
   "cell_type": "code",
   "execution_count": 9,
   "id": "f7a4a5da",
   "metadata": {},
   "outputs": [],
   "source": [
    "if not USE_SAVE_CHECKPOINT:    \n",
    "    generated_action_train = inference_model(\n",
    "        action_model, \n",
    "        tokenizer, \n",
    "        train_action_dataset.inputs, \n",
    "        MAX_LENGTH_ENCODER_ACTION, \n",
    "        MAX_LENGTH_DECODER_ACTION, \n",
    "        DEVICE,\n",
    "        batch_size=1024,\n",
    "        save=f\"../../data/generated_outputs_train_action.pkl\"\n",
    "    ) \n",
    "\n",
    "    generated_action_valid = inference_model(\n",
    "        action_model, \n",
    "        tokenizer, \n",
    "        valid_action_dataset.inputs, \n",
    "        MAX_LENGTH_ENCODER_ACTION, \n",
    "        MAX_LENGTH_DECODER_ACTION, \n",
    "        DEVICE,\n",
    "        batch_size=1024,\n",
    "        save=f\"../../data/generated_outputs_valid_action.pkl\"\n",
    "    ) \n",
    "    \n",
    "else:\n",
    "    generated_outputs_train = pickle.load(open(\"../../data/generated_outputs_train_action.pkl\", \"rb\"))\n",
    "    generated_outputs_valid = pickle.load(open(\"../../data/generated_outputs_valid_action.pkl\", \"rb\"))"
   ]
  },
  {
   "cell_type": "code",
   "execution_count": 10,
   "id": "2e041ebe",
   "metadata": {},
   "outputs": [],
   "source": [
    "if not USE_SAVE_CHECKPOINT:\n",
    "    train_evaluation = get_evaluation_score(\n",
    "        generated_outputs_train, \n",
    "        train_action_dataset.actions,\n",
    "        save=f\"../../data/train_evaluation_action.pkl\"\n",
    "    )\n",
    "    valid_evaluation = get_evaluation_score(\n",
    "        generated_outputs_valid, \n",
    "        valid_action_dataset.actions,\n",
    "        save=f\"../../data/valid_evaluation_action.pkl\"\n",
    "    )\n",
    "    \n",
    "else:\n",
    "    train_evaluation = pickle.load(open(\"../../data/train_evaluation_action.pkl\", \"rb\"))\n",
    "    valid_evaluation = pickle.load(open(\"../../data/valid_evaluation_action.pkl\", \"rb\"))"
   ]
  },
  {
   "cell_type": "code",
   "execution_count": 11,
   "id": "cd04da0c",
   "metadata": {},
   "outputs": [
    {
     "name": "stdout",
     "output_type": "stream",
     "text": [
      "BLEU Score Train: 0.7472834158764451\n",
      "SER Score Train: 0.8694228960234199\n",
      "BLEU Score Valid: 0.7459993093546742\n",
      "SER Score Valid: 0.865175040987559\n"
     ]
    }
   ],
   "source": [
    "print(\"BLEU Score Train:\", train_evaluation[\"bleu_score\"])\n",
    "print(\"SER Score Train:\", train_evaluation[\"ser_score\"])\n",
    "print(\"BLEU Score Valid:\", valid_evaluation[\"bleu_score\"])\n",
    "print(\"SER Score Valid:\", valid_evaluation[\"ser_score\"])"
   ]
  },
  {
   "cell_type": "code",
   "execution_count": 17,
   "id": "c7cfefb9",
   "metadata": {},
   "outputs": [
    {
     "name": "stderr",
     "output_type": "stream",
     "text": [
      "Inference: 100%|██████████| 1/1 [00:00<00:00,  3.01it/s]"
     ]
    },
    {
     "name": "stdout",
     "output_type": "stream",
     "text": [
      "\n",
      "User Inputs: USER: i want to book it for 2 people and 2 nights starting from saturday. SYS: Your booking was successful. Your reference number is FRGZWQL2 . May I help you further?\n",
      "Generated Action: Booking-Book(ref=REF) | general-reqmore(none=NONE)\n",
      "True Action: Booking-Book(ref=REF) | general-reqmore(none=NONE)\n"
     ]
    },
    {
     "name": "stderr",
     "output_type": "stream",
     "text": [
      "\n"
     ]
    }
   ],
   "source": [
    "index = 9\n",
    "inputs = train_action_dataset.inputs[index]\n",
    "\n",
    "generated_action = inference_model(\n",
    "    action_model,\n",
    "    tokenizer,\n",
    "    inputs,\n",
    "    MAX_LENGTH_ENCODER_ACTION,\n",
    "    MAX_LENGTH_DECODER_ACTION,\n",
    "    DEVICE\n",
    ")\n",
    "\n",
    "print(\"\\nUser Inputs:\", inputs)\n",
    "print(\"Generated Action:\", generated_action)\n",
    "print(\"True Action:\", train_action_dataset.actions[index])"
   ]
  },
  {
   "cell_type": "markdown",
   "id": "9a210a4a",
   "metadata": {},
   "source": [
    "___\n",
    "### **STAGE 4. Result Visualization**\n",
    "___"
   ]
  },
  {
   "cell_type": "code",
   "execution_count": 13,
   "id": "ca98ea44",
   "metadata": {},
   "outputs": [
    {
     "data": {
      "image/png": "[encoded data removed]",
      "text/plain": [
       "<Figure size 1000x600 with 1 Axes>"
      ]
     },
     "metadata": {},
     "output_type": "display_data"
    }
   ],
   "source": [
    "plot_model_performance(train_evaluation, valid_evaluation, save=\"../../performance/action_model_performance.png\")"
   ]
  }
 ],
 "metadata": {
  "kernelspec": {
   "display_name": ".venv",
   "language": "python",
   "name": "python3"
  },
  "language_info": {
   "codemirror_mode": {
    "name": "ipython",
    "version": 3
   },
   "file_extension": ".py",
   "mimetype": "text/x-python",
   "name": "python",
   "nbconvert_exporter": "python",
   "pygments_lexer": "ipython3",
   "version": "3.10.11"
  }
 },
 "nbformat": 4,
 "nbformat_minor": 5
}
