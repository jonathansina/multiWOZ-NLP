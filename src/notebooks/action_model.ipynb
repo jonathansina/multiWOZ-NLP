{
 "cells": [
  {
   "cell_type": "code",
   "execution_count": 2,
   "id": "aa4e07fb",
   "metadata": {},
   "outputs": [],
   "source": [
    "import sys\n",
    "sys.path.append(\"..\")\n",
    "\n",
    "import torch\n",
    "from torch.optim import AdamW\n",
    "from transformers import T5Tokenizer\n",
    "from torch.utils.data import DataLoader\n",
    "from transformers import T5ForConditionalGeneration\n",
    "\n",
    "from datasets import load_dataset\n",
    "from transformers import get_linear_schedule_with_warmup\n",
    "\n",
    "from scripts.response.training import train_model\n",
    "from scripts.response.inference import inference_model\n",
    "from scripts.response.preprocessing import ResponseDataset\n",
    "\n",
    "from scripts.global_vars import DEVICE, MAX_LENGTH, BATCH_SIZE"
   ]
  },
  {
   "cell_type": "code",
   "execution_count": 3,
   "id": "858ee728",
   "metadata": {},
   "outputs": [],
   "source": [
    "dataset = load_dataset(\"multi_woz_v22\", trust_remote_code=True)\n",
    "\n",
    "train_data = dataset['train']\n",
    "val_data = dataset['validation']"
   ]
  },
  {
   "cell_type": "code",
   "execution_count": 5,
   "id": "44737f22",
   "metadata": {},
   "outputs": [],
   "source": [
    "from typing import List, Dict, Tuple\n",
    "\n",
    "\n",
    "def preprocess_action_prediction(dialogue: Dict, max_turns: int = 5) -> List[Tuple[str, str]]:\n",
    "    samples = []\n",
    "    turns = dialogue[\"turns\"]\n",
    "    utterances = turns[\"utterance\"]\n",
    "    speakers = turns[\"speaker\"]\n",
    "    acts = turns[\"dialogue_acts\"]\n",
    "\n",
    "    context = []\n",
    "    for i, (utt, spk) in enumerate(zip(utterances, speakers)):\n",
    "        context.append((\"USER\" if spk == 0 else \"SYS\") + \": \" + utt)\n",
    "        \n",
    "        # Keep only the last max_turns in context\n",
    "        if len(context) > max_turns:\n",
    "            context = context[-max_turns:]\n",
    "        \n",
    "        # if system turn → predict the action\n",
    "        if spk == 1 and i < len(acts):\n",
    "            act = acts[i][\"dialog_act\"]\n",
    "            \n",
    "            # flatten action into string label (e.g. \"Restaurant-Inform(area=centre, pricerange=expensive)\")\n",
    "            label_parts = []\n",
    "            for act_type, act_slots in zip(act[\"act_type\"], act[\"act_slots\"]):\n",
    "                slots = [f\"{s}={v}\" for s, v in zip(act_slots.get(\"slot_name\", []), act_slots.get(\"slot_value\", []))]\n",
    "                label_parts.append(f\"{act_type}({', '.join(slots)})\")\n",
    "            action_label = \" | \".join(label_parts)\n",
    "\n",
    "            # join history up to now as input\n",
    "            input_text = \" \".join([c for c in context])\n",
    "            samples.append((input_text, action_label))\n",
    "\n",
    "    return samples"
   ]
  },
  {
   "cell_type": "code",
   "execution_count": 16,
   "id": "a81fb2a9",
   "metadata": {},
   "outputs": [],
   "source": [
    "res = preprocess_action_prediction(train_data[0], max_turns=4)"
   ]
  },
  {
   "cell_type": "code",
   "execution_count": 24,
   "id": "59255570",
   "metadata": {},
   "outputs": [
    {
     "data": {
      "text/plain": [
       "(\"USER: Any sort of food would be fine, as long as it is a bit expensive. Could I get the phone number for your recommendation? SYS: There is an Afrian place named Bedouin in the centre. How does that sound? USER: Sounds good, could I get that phone number? Also, could you recommend me an expensive hotel? SYS: Bedouin's phone is 01223367660. As far as hotels go, I recommend the University Arms Hotel in the center of town.\",\n",
       " 'Hotel-Recommend(area=center of town, name=the University Arms Hotel) | Restaurant-Inform(name=Bedouin, phone=01223367660)')"
      ]
     },
     "execution_count": 24,
     "metadata": {},
     "output_type": "execute_result"
    }
   ],
   "source": [
    "res[2]"
   ]
  },
  {
   "cell_type": "code",
   "execution_count": null,
   "id": "869386b8",
   "metadata": {},
   "outputs": [],
   "source": []
  }
 ],
 "metadata": {
  "kernelspec": {
   "display_name": ".venv",
   "language": "python",
   "name": "python3"
  },
  "language_info": {
   "codemirror_mode": {
    "name": "ipython",
    "version": 3
   },
   "file_extension": ".py",
   "mimetype": "text/x-python",
   "name": "python",
   "nbconvert_exporter": "python",
   "pygments_lexer": "ipython3",
   "version": "3.10.12"
  }
 },
 "nbformat": 4,
 "nbformat_minor": 5
}
