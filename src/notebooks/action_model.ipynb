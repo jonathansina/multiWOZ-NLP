{
 "cells": [
  {
   "cell_type": "code",
   "execution_count": null,
   "id": "aa4e07fb",
   "metadata": {},
   "outputs": [],
   "source": [
    "import sys\n",
    "import pickle\n",
    "sys.path.append(\"..\")\n",
    "\n",
    "import torch\n",
    "from torch.optim import AdamW\n",
    "from transformers import T5Tokenizer\n",
    "from torch.utils.data import DataLoader\n",
    "from transformers import T5ForConditionalGeneration\n",
    "\n",
    "from datasets import load_dataset\n",
    "from transformers import get_linear_schedule_with_warmup\n",
    "\n",
    "from scripts.global_vars import (\n",
    "    DEVICE, \n",
    "    MAX_TURNS,\n",
    "    BATCH_SIZE, \n",
    "    MODEL_NAME,\n",
    "    USE_SAVE_CHECKPOINT,\n",
    "    MAX_LENGTH_ENCODER_ACTION, \n",
    "    MAX_LENGTH_DECODER_ACTION\n",
    ")\n",
    "\n",
    "from scripts.pytorch.training import train_model\n",
    "from scripts.pytorch.inference import inference_model\n",
    "from scripts.utils import find_zero_percentage, plot_model_performance\n",
    "from scripts.preprocessing.action import ActionDataset, get_evaluation_score"
   ]
  },
  {
   "cell_type": "markdown",
   "id": "ce438125",
   "metadata": {},
   "source": [
    "___"
   ]
  },
  {
   "cell_type": "markdown",
   "id": "9e3503ba",
   "metadata": {},
   "source": [
    "### **STAGE 1. Dataset Loading and Preprocessing**"
   ]
  },
  {
   "cell_type": "markdown",
   "id": "6e55042d",
   "metadata": {},
   "source": [
    "___"
   ]
  },
  {
   "cell_type": "code",
   "execution_count": 2,
   "id": "858ee728",
   "metadata": {},
   "outputs": [],
   "source": [
    "dataset = load_dataset(\"multi_woz_v22\", trust_remote_code=True)\n",
    "\n",
    "train_data = dataset['train']\n",
    "val_data = dataset['validation']"
   ]
  },
  {
   "cell_type": "code",
   "execution_count": 3,
   "id": "e7261d13",
   "metadata": {},
   "outputs": [
    {
     "name": "stderr",
     "output_type": "stream",
     "text": [
      "Processing dialogues: 100%|██████████| 8437/8437 [00:05<00:00, 1442.77it/s]\n",
      "Processing dialogues: 100%|██████████| 1000/1000 [00:00<00:00, 1303.20it/s]\n"
     ]
    },
    {
     "name": "stdout",
     "output_type": "stream",
     "text": [
      "Inputs IDs shape: torch.Size([256, 64])\n",
      "Action IDs shape: torch.Size([256, 32])\n"
     ]
    }
   ],
   "source": [
    "tokenizer = T5Tokenizer.from_pretrained(\n",
    "    legacy=True,\n",
    "    pretrained_model_name_or_path=MODEL_NAME\n",
    ")\n",
    "\n",
    "train_action_dataset = ActionDataset(\n",
    "    data=dataset['train'],\n",
    "    tokenizer=tokenizer,\n",
    "    max_turns=MAX_TURNS,\n",
    "    max_output_len=MAX_LENGTH_DECODER_ACTION,\n",
    "    max_input_len=MAX_LENGTH_ENCODER_ACTION,\n",
    "    delex=True\n",
    "    \n",
    ")\n",
    "\n",
    "valid_action_dataset = ActionDataset(\n",
    "    data=dataset['validation'],\n",
    "    tokenizer=tokenizer,\n",
    "    max_turns=MAX_TURNS,\n",
    "    max_output_len=MAX_LENGTH_DECODER_ACTION,\n",
    "    max_input_len=MAX_LENGTH_ENCODER_ACTION,\n",
    "    delex=True\n",
    ")\n",
    "\n",
    "train_loader_action = DataLoader(train_action_dataset, batch_size=BATCH_SIZE, shuffle=True)\n",
    "valid_loader_action = DataLoader(valid_action_dataset, batch_size=BATCH_SIZE)\n",
    "\n",
    "batch = next(iter(train_loader_action))\n",
    "print(\"Inputs IDs shape:\", batch['encoder_input_ids'].shape)\n",
    "print(\"Action IDs shape:\", batch['decoder_input_ids'].shape)"
   ]
  },
  {
   "cell_type": "code",
   "execution_count": 4,
   "id": "afec8fee",
   "metadata": {},
   "outputs": [],
   "source": [
    "train_encoder_zero = find_zero_percentage(train_loader_action, \"encoder_input_ids\", MAX_LENGTH_ENCODER_ACTION)\n",
    "train_decoder_zero = find_zero_percentage(train_loader_action, \"decoder_input_ids\", MAX_LENGTH_DECODER_ACTION)\n",
    "valid_encoder_zero = find_zero_percentage(valid_loader_action, \"encoder_input_ids\", MAX_LENGTH_ENCODER_ACTION)\n",
    "valid_decoder_zero = find_zero_percentage(valid_loader_action, \"decoder_input_ids\", MAX_LENGTH_DECODER_ACTION)"
   ]
  },
  {
   "cell_type": "code",
   "execution_count": 5,
   "id": "c9cc298a",
   "metadata": {},
   "outputs": [
    {
     "name": "stdout",
     "output_type": "stream",
     "text": [
      "Train Encoder Zero Percentage: 33.785223960876465 \n",
      "Train Decoder Zero Percentage: 37.41556704044342 \n",
      "Valid Encoder Zero Percentage: 32.38596022129059 \n",
      "Valid Decoder Zero Percentage: 36.70688271522522\n"
     ]
    }
   ],
   "source": [
    "print(\n",
    "    \"Train Encoder Zero Percentage:\", train_encoder_zero * 100,\n",
    "    \"\\nTrain Decoder Zero Percentage:\", train_decoder_zero * 100,\n",
    "    \"\\nValid Encoder Zero Percentage:\", valid_encoder_zero * 100,\n",
    "    \"\\nValid Decoder Zero Percentage:\", valid_decoder_zero * 100\n",
    ")"
   ]
  },
  {
   "cell_type": "markdown",
   "id": "0c592898",
   "metadata": {},
   "source": [
    "___"
   ]
  },
  {
   "cell_type": "markdown",
   "id": "c238ad95",
   "metadata": {},
   "source": [
    "### **STAGE 2. Model Training**"
   ]
  },
  {
   "cell_type": "markdown",
   "id": "f8c4de20",
   "metadata": {},
   "source": [
    "___"
   ]
  },
  {
   "cell_type": "code",
   "execution_count": 6,
   "id": "10fc5f64",
   "metadata": {},
   "outputs": [],
   "source": [
    "num_epochs = 5\n",
    "num_training_steps = len(train_loader_action) * num_epochs\n",
    "num_warmup_steps = num_training_steps // 10\n",
    "\n",
    "action_model = T5ForConditionalGeneration.from_pretrained(\n",
    "    pretrained_model_name_or_path=MODEL_NAME\n",
    ").to(DEVICE)\n",
    "\n",
    "optimizer = AdamW(\n",
    "    action_model.parameters(),\n",
    "    lr=1e-3,\n",
    "    eps=1e-8\n",
    ")\n",
    "\n",
    "scheduler = get_linear_schedule_with_warmup(\n",
    "    optimizer,\n",
    "    num_warmup_steps=num_warmup_steps,\n",
    "    num_training_steps=num_training_steps\n",
    ")"
   ]
  },
  {
   "cell_type": "code",
   "execution_count": 8,
   "id": "8b15418f",
   "metadata": {},
   "outputs": [
    {
     "name": "stdout",
     "output_type": "stream",
     "text": [
      "\n",
      "Epoch 1/5\n",
      "--------------------------------------------------\n"
     ]
    },
    {
     "name": "stderr",
     "output_type": "stream",
     "text": [
      "Training:   0%|          | 0/444 [00:00<?, ?it/s]Passing a tuple of `past_key_values` is deprecated and will be removed in Transformers v4.48.0. You should pass an instance of `EncoderDecoderCache` instead, e.g. `past_key_values=EncoderDecoderCache.from_legacy_cache(past_key_values)`.\n",
      "Training: 100%|██████████| 444/444 [02:20<00:00,  3.16it/s]\n",
      "Validation: 100%|██████████| 58/58 [00:07<00:00,  7.73it/s]\n"
     ]
    },
    {
     "name": "stdout",
     "output_type": "stream",
     "text": [
      "Training   - Loss: 0.8648\n",
      "Validation - Loss: 0.0658\n",
      "LR: 8.89e-04\n",
      "\n",
      "Epoch 2/5\n",
      "--------------------------------------------------\n"
     ]
    },
    {
     "name": "stderr",
     "output_type": "stream",
     "text": [
      "Training: 100%|██████████| 444/444 [02:21<00:00,  3.14it/s]\n",
      "Validation: 100%|██████████| 58/58 [00:08<00:00,  6.89it/s]\n"
     ]
    },
    {
     "name": "stdout",
     "output_type": "stream",
     "text": [
      "Training   - Loss: 0.0705\n",
      "Validation - Loss: 0.0452\n",
      "LR: 6.67e-04\n",
      "\n",
      "Epoch 3/5\n",
      "--------------------------------------------------\n"
     ]
    },
    {
     "name": "stderr",
     "output_type": "stream",
     "text": [
      "Training: 100%|██████████| 444/444 [02:24<00:00,  3.07it/s]\n",
      "Validation: 100%|██████████| 58/58 [00:07<00:00,  7.72it/s]\n"
     ]
    },
    {
     "name": "stdout",
     "output_type": "stream",
     "text": [
      "Training   - Loss: 0.0539\n",
      "Validation - Loss: 0.0403\n",
      "LR: 4.44e-04\n",
      "\n",
      "Epoch 4/5\n",
      "--------------------------------------------------\n"
     ]
    },
    {
     "name": "stderr",
     "output_type": "stream",
     "text": [
      "Training: 100%|██████████| 444/444 [02:23<00:00,  3.09it/s]\n",
      "Validation: 100%|██████████| 58/58 [00:07<00:00,  7.30it/s]\n"
     ]
    },
    {
     "name": "stdout",
     "output_type": "stream",
     "text": [
      "Training   - Loss: 0.0475\n",
      "Validation - Loss: 0.0383\n",
      "LR: 2.22e-04\n",
      "\n",
      "Epoch 5/5\n",
      "--------------------------------------------------\n"
     ]
    },
    {
     "name": "stderr",
     "output_type": "stream",
     "text": [
      "Training: 100%|██████████| 444/444 [02:25<00:00,  3.06it/s]\n",
      "Validation: 100%|██████████| 58/58 [00:08<00:00,  7.19it/s]\n"
     ]
    },
    {
     "name": "stdout",
     "output_type": "stream",
     "text": [
      "Training   - Loss: 0.0439\n",
      "Validation - Loss: 0.0369\n",
      "LR: 0.00e+00\n"
     ]
    }
   ],
   "source": [
    "if not USE_SAVE_CHECKPOINT:\n",
    "    action_model = train_model(\n",
    "        action_model,\n",
    "        optimizer,\n",
    "        scheduler,\n",
    "        train_loader_action,\n",
    "        valid_loader_action,\n",
    "        num_epochs=num_epochs,\n",
    "        device=DEVICE,\n",
    "        save=\"../../models/multixoz_action_model.pth\"\n",
    "    )\n",
    "    \n",
    "else:\n",
    "    action_model.load_state_dict(torch.load(\"../../models/multixoz_action_model.pth\"))"
   ]
  },
  {
   "cell_type": "markdown",
   "id": "7c974e75",
   "metadata": {},
   "source": [
    "___"
   ]
  },
  {
   "cell_type": "markdown",
   "id": "a478489c",
   "metadata": {},
   "source": [
    "### **STAGE 3. Model Evaluation**"
   ]
  },
  {
   "cell_type": "markdown",
   "id": "e8d58cbc",
   "metadata": {},
   "source": [
    "___"
   ]
  },
  {
   "cell_type": "code",
   "execution_count": 9,
   "id": "f7a4a5da",
   "metadata": {},
   "outputs": [
    {
     "name": "stderr",
     "output_type": "stream",
     "text": [
      "Inference: 100%|██████████| 111/111 [03:30<00:00,  1.90s/it]\n",
      "Inference: 100%|██████████| 15/15 [00:27<00:00,  1.85s/it]\n"
     ]
    }
   ],
   "source": [
    "if not USE_SAVE_CHECKPOINT:    \n",
    "    generated_action_train = inference_model(\n",
    "        action_model, \n",
    "        tokenizer, \n",
    "        train_action_dataset.inputs, \n",
    "        MAX_LENGTH_ENCODER_ACTION, \n",
    "        MAX_LENGTH_DECODER_ACTION, \n",
    "        DEVICE,\n",
    "        batch_size=1024,\n",
    "        save=\"../../data/generated_outputs_train_action.pkl\"\n",
    "    ) \n",
    "\n",
    "    generated_action_valid = inference_model(\n",
    "        action_model, \n",
    "        tokenizer, \n",
    "        valid_action_dataset.inputs, \n",
    "        MAX_LENGTH_ENCODER_ACTION, \n",
    "        MAX_LENGTH_DECODER_ACTION, \n",
    "        DEVICE,\n",
    "        batch_size=1024,\n",
    "        save=\"../../data/generated_outputs_valid_action.pkl\"\n",
    "    ) \n",
    "    \n",
    "else:\n",
    "    generated_outputs_train = pickle.load(open(\"../../data/generated_outputs_train_action.pkl\", \"rb\"))\n",
    "    generated_outputs_valid = pickle.load(open(\"../../data/generated_outputs_valid_action.pkl\", \"rb\"))"
   ]
  },
  {
   "cell_type": "code",
   "execution_count": null,
   "id": "2e041ebe",
   "metadata": {},
   "outputs": [],
   "source": [
    "if not USE_SAVE_CHECKPOINT:\n",
    "    train_evaluation = get_evaluation_score(\n",
    "        generated_action_train, \n",
    "        train_action_dataset.actions,\n",
    "        save=\"../../data/train_evaluation_action.pkl\"\n",
    "    )\n",
    "    valid_evaluation = get_evaluation_score(\n",
    "        generated_action_valid, \n",
    "        valid_action_dataset.actions,\n",
    "        save=\"../../data/valid_evaluation_action.pkl\"\n",
    "    )\n",
    "    \n",
    "else:\n",
    "    train_evaluation = pickle.load(open(\"../../data/train_evaluation_action.pkl\", \"rb\"))\n",
    "    valid_evaluation = pickle.load(open(\"../../data/valid_evaluation_action.pkl\", \"rb\"))"
   ]
  },
  {
   "cell_type": "code",
   "execution_count": 11,
   "id": "cd04da0c",
   "metadata": {},
   "outputs": [
    {
     "name": "stdout",
     "output_type": "stream",
     "text": [
      "BLEU Score Train: 0.7472834158764451\n",
      "SER Score Train: 0.8694228960234199\n",
      "BLEU Score Valid: 0.7459993093546742\n",
      "SER Score Valid: 0.865175040987559\n"
     ]
    }
   ],
   "source": [
    "print(\"BLEU Score Train:\", train_evaluation[\"bleu_score\"])\n",
    "print(\"SER Score Train:\", train_evaluation[\"ser_score\"])\n",
    "print(\"BLEU Score Valid:\", valid_evaluation[\"bleu_score\"])\n",
    "print(\"SER Score Valid:\", valid_evaluation[\"ser_score\"])"
   ]
  },
  {
   "cell_type": "code",
   "execution_count": 25,
   "id": "c7cfefb9",
   "metadata": {},
   "outputs": [
    {
     "name": "stderr",
     "output_type": "stream",
     "text": [
      "Inference: 100%|██████████| 1/1 [00:00<00:00, 14.94it/s]"
     ]
    },
    {
     "name": "stdout",
     "output_type": "stream",
     "text": [
      "\n",
      "User Inputs: SYS: The booking was unsuccessful. would you like another day or a shorter stay? USER: How about for [BOOKSTAY] nights?\n",
      "Generated Action: Hotel-Inform(bookstay=BOOKSTAY)\n",
      "True Action: Hotel-Inform(bookstay=BOOKSTAY)\n"
     ]
    },
    {
     "name": "stderr",
     "output_type": "stream",
     "text": [
      "\n"
     ]
    }
   ],
   "source": [
    "index = 20\n",
    "inputs = train_action_dataset.inputs[index]\n",
    "\n",
    "generated_action = inference_model(\n",
    "    action_model,\n",
    "    tokenizer,\n",
    "    inputs,\n",
    "    MAX_LENGTH_ENCODER_ACTION,\n",
    "    MAX_LENGTH_DECODER_ACTION,\n",
    "    DEVICE\n",
    ")\n",
    "\n",
    "print(\"\\nUser Inputs:\", inputs)\n",
    "print(\"Generated Action:\", generated_action)\n",
    "print(\"True Action:\", train_action_dataset.actions[index])"
   ]
  },
  {
   "cell_type": "markdown",
   "id": "8f77e5a7",
   "metadata": {},
   "source": [
    "___"
   ]
  },
  {
   "cell_type": "markdown",
   "id": "9a210a4a",
   "metadata": {},
   "source": [
    "### **STAGE 4. Result Visualization**"
   ]
  },
  {
   "cell_type": "markdown",
   "id": "7eee1b2f",
   "metadata": {},
   "source": [
    "___"
   ]
  },
  {
   "cell_type": "code",
   "execution_count": 28,
   "id": "ca98ea44",
   "metadata": {},
   "outputs": [
    {
     "data": {
      "image/png": "[encoded data removed]",
      "text/plain": [
       "<Figure size 1000x600 with 1 Axes>"
      ]
     },
     "metadata": {},
     "output_type": "display_data"
    }
   ],
   "source": [
    "plot_model_performance(train_evaluation, valid_evaluation)"
   ]
  }
 ],
 "metadata": {
  "kernelspec": {
   "display_name": ".venv",
   "language": "python",
   "name": "python3"
  },
  "language_info": {
   "codemirror_mode": {
    "name": "ipython",
    "version": 3
   },
   "file_extension": ".py",
   "mimetype": "text/x-python",
   "name": "python",
   "nbconvert_exporter": "python",
   "pygments_lexer": "ipython3",
   "version": "3.10.12"
  }
 },
 "nbformat": 4,
 "nbformat_minor": 5
}
