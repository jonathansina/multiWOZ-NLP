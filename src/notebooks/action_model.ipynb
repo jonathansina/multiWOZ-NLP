{
 "cells": [
  {
   "cell_type": "code",
   "execution_count": 1,
   "id": "aa4e07fb",
   "metadata": {},
   "outputs": [],
   "source": [
    "import sys\n",
    "sys.path.append(\"..\")\n",
    "\n",
    "import torch\n",
    "from torch.optim import AdamW\n",
    "from transformers import T5Tokenizer\n",
    "from torch.utils.data import DataLoader\n",
    "from transformers import T5ForConditionalGeneration\n",
    "\n",
    "from datasets import load_dataset\n",
    "from transformers import get_linear_schedule_with_warmup\n",
    "\n",
    "from scripts.response.training import train_model\n",
    "from scripts.response.inference import inference_model\n",
    "# from scripts.response.preprocessing import ActionDataset\n",
    "\n",
    "from scripts.global_vars import DEVICE, MAX_LENGTH_ACTION, BATCH_SIZE, MAX_TURNS"
   ]
  },
  {
   "cell_type": "code",
   "execution_count": 2,
   "id": "858ee728",
   "metadata": {},
   "outputs": [],
   "source": [
    "dataset = load_dataset(\"multi_woz_v22\", trust_remote_code=True)\n",
    "\n",
    "train_data = dataset['train']\n",
    "val_data = dataset['validation']"
   ]
  },
  {
   "cell_type": "code",
   "execution_count": 3,
   "id": "44737f22",
   "metadata": {},
   "outputs": [],
   "source": [
    "from typing import List, Dict, Tuple\n",
    "\n",
    "\n",
    "def preprocess_action_prediction(dialogue: Dict, max_turns: int = 5) -> List[Tuple[str, str]]:\n",
    "    samples = []\n",
    "    turns = dialogue[\"turns\"]\n",
    "    utterances = turns[\"utterance\"]\n",
    "    speakers = turns[\"speaker\"]\n",
    "    acts = turns[\"dialogue_acts\"]\n",
    "\n",
    "    context = []\n",
    "    for i, (utt, spk) in enumerate(zip(utterances, speakers)):\n",
    "        context.append((\"USER\" if spk == 0 else \"SYS\") + \": \" + utt)\n",
    "        \n",
    "        # Keep only the last max_turns in context\n",
    "        if len(context) > max_turns:\n",
    "            context = context[-max_turns:]\n",
    "        \n",
    "        # if system turn → predict the action\n",
    "        if spk == 1 and i < len(acts):\n",
    "            act = acts[i][\"dialog_act\"]\n",
    "            \n",
    "            # flatten action into string label (e.g. \"Restaurant-Inform(area=centre, pricerange=expensive)\")\n",
    "            label_parts = []\n",
    "            for act_type, act_slots in zip(act[\"act_type\"], act[\"act_slots\"]):\n",
    "                slots = [f\"{s}={v}\" for s, v in zip(act_slots.get(\"slot_name\", []), act_slots.get(\"slot_value\", []))]\n",
    "                label_parts.append(f\"{act_type}({', '.join(slots)})\")\n",
    "            action_label = \" | \".join(label_parts)\n",
    "\n",
    "            # join history up to now as input\n",
    "            input_text = \" \".join([c for c in context])\n",
    "            samples.append((input_text, action_label))\n",
    "\n",
    "    return samples"
   ]
  },
  {
   "cell_type": "code",
   "execution_count": 4,
   "id": "a81fb2a9",
   "metadata": {},
   "outputs": [],
   "source": [
    "res = preprocess_action_prediction(train_data[0], max_turns=MAX_TURNS)"
   ]
  },
  {
   "cell_type": "code",
   "execution_count": 5,
   "id": "59255570",
   "metadata": {},
   "outputs": [
    {
     "data": {
      "text/plain": [
       "(\"USER: Sounds good, could I get that phone number? Also, could you recommend me an expensive hotel? SYS: Bedouin's phone is 01223367660. As far as hotels go, I recommend the University Arms Hotel in the center of town.\",\n",
       " 'Hotel-Recommend(area=center of town, name=the University Arms Hotel) | Restaurant-Inform(name=Bedouin, phone=01223367660)')"
      ]
     },
     "execution_count": 5,
     "metadata": {},
     "output_type": "execute_result"
    }
   ],
   "source": [
    "res[2]"
   ]
  },
  {
   "cell_type": "code",
   "execution_count": 6,
   "id": "869386b8",
   "metadata": {},
   "outputs": [],
   "source": [
    "import tqdm\n",
    "from torch.utils.data import Dataset\n",
    "\n",
    "\n",
    "class ActionDataset(Dataset):\n",
    "    def __init__(self, data: List[Dict], tokenizer: T5Tokenizer, max_output_len: int = 64):\n",
    "        self.tokenizer = tokenizer\n",
    "        self.max_output_len = max_output_len\n",
    "        \n",
    "        self.inputs = []\n",
    "        self.actions = []\n",
    "\n",
    "        for dialogue in tqdm.tqdm(data, desc=\"Processing dialogues\"):\n",
    "            preprocessed_text = preprocess_action_prediction(dialogue)\n",
    "\n",
    "            for (input, action) in preprocessed_text:\n",
    "                self.inputs.append(input)\n",
    "                self.actions.append(action)\n",
    "\n",
    "    def __len__(self):\n",
    "        return len(self.actions)\n",
    "\n",
    "    def __getitem__(self, idx):\n",
    "        input_enc = self.tokenizer(\n",
    "            self.inputs[idx], \n",
    "            padding='max_length', \n",
    "            truncation=True, \n",
    "            max_length=self.max_output_len, \n",
    "            return_tensors=\"pt\"\n",
    "        )\n",
    "\n",
    "        action_enc = self.tokenizer(\n",
    "            self.actions[idx],\n",
    "            padding='max_length',\n",
    "            truncation=True,\n",
    "            max_length=self.max_output_len,\n",
    "            return_tensors=\"pt\"\n",
    "        )\n",
    "\n",
    "        return {\n",
    "            \"encoder_input_ids\": input_enc[\"input_ids\"].squeeze(0),\n",
    "            \"encoder_attention_mask\": input_enc[\"attention_mask\"].squeeze(0),\n",
    "            \"decoder_input_ids\": action_enc[\"input_ids\"].squeeze(0),\n",
    "            \"decoder_attention_mask\": action_enc[\"attention_mask\"].squeeze(0)\n",
    "        }"
   ]
  },
  {
   "cell_type": "code",
   "execution_count": 7,
   "id": "e7261d13",
   "metadata": {},
   "outputs": [
    {
     "name": "stderr",
     "output_type": "stream",
     "text": [
      "Processing dialogues: 100%|██████████| 8437/8437 [00:03<00:00, 2258.98it/s]\n",
      "Processing dialogues: 100%|██████████| 1000/1000 [00:00<00:00, 2131.37it/s]\n"
     ]
    },
    {
     "name": "stdout",
     "output_type": "stream",
     "text": [
      "Inputs IDs shape: torch.Size([64, 128])\n",
      "Action IDs shape: torch.Size([64, 128])\n"
     ]
    }
   ],
   "source": [
    "tokenizer = T5Tokenizer.from_pretrained(\n",
    "    legacy=True,\n",
    "    pretrained_model_name_or_path=\"google/t5-efficient-mini\"\n",
    ")\n",
    "\n",
    "train_action_dataset = ActionDataset(\n",
    "    data=dataset['train'],\n",
    "    tokenizer=tokenizer,\n",
    "    max_output_len=MAX_LENGTH_ACTION\n",
    ")\n",
    "\n",
    "valid_action_dataset = ActionDataset(\n",
    "    data=dataset['validation'],\n",
    "    tokenizer=tokenizer,\n",
    "    max_output_len=MAX_LENGTH_ACTION\n",
    ")\n",
    "\n",
    "train_loader_action = DataLoader(train_action_dataset, batch_size=BATCH_SIZE, shuffle=True)\n",
    "valid_loader_action = DataLoader(valid_action_dataset, batch_size=BATCH_SIZE)\n",
    "\n",
    "batch = next(iter(train_loader_action))\n",
    "print(\"Inputs IDs shape:\", batch['encoder_input_ids'].shape)\n",
    "print(\"Action IDs shape:\", batch['decoder_input_ids'].shape)"
   ]
  },
  {
   "cell_type": "code",
   "execution_count": 8,
   "id": "10fc5f64",
   "metadata": {},
   "outputs": [],
   "source": [
    "num_epochs = 5\n",
    "num_training_steps = len(train_loader_action) * num_epochs\n",
    "num_warmup_steps = num_training_steps // 10\n",
    "\n",
    "action_model = T5ForConditionalGeneration.from_pretrained(\n",
    "    \"google/t5-efficient-mini\"\n",
    ").to(DEVICE)\n",
    "\n",
    "optimizer = AdamW(\n",
    "    action_model.parameters(),\n",
    "    lr=1e-3,\n",
    "    eps=1e-8\n",
    ")\n",
    "\n",
    "scheduler = get_linear_schedule_with_warmup(\n",
    "    optimizer,\n",
    "    num_warmup_steps=num_warmup_steps,\n",
    "    num_training_steps=num_training_steps\n",
    ")"
   ]
  },
  {
   "cell_type": "code",
   "execution_count": 9,
   "id": "8b15418f",
   "metadata": {},
   "outputs": [
    {
     "name": "stdout",
     "output_type": "stream",
     "text": [
      "\n",
      "Epoch 1/5\n",
      "--------------------------------------------------\n"
     ]
    },
    {
     "name": "stderr",
     "output_type": "stream",
     "text": [
      "Training:   0%|          | 0/888 [00:00<?, ?it/s]Passing a tuple of `past_key_values` is deprecated and will be removed in Transformers v4.48.0. You should pass an instance of `EncoderDecoderCache` instead, e.g. `past_key_values=EncoderDecoderCache.from_legacy_cache(past_key_values)`.\n",
      "Training: 100%|██████████| 888/888 [01:58<00:00,  7.49it/s]\n",
      "Validation: 100%|██████████| 116/116 [00:06<00:00, 19.16it/s]\n"
     ]
    },
    {
     "name": "stdout",
     "output_type": "stream",
     "text": [
      "Training   - Loss: 1.1459\n",
      "Validation - Loss: 0.0826\n",
      "LR: 8.89e-04\n",
      "\n",
      "Epoch 2/5\n",
      "--------------------------------------------------\n"
     ]
    },
    {
     "name": "stderr",
     "output_type": "stream",
     "text": [
      "Training: 100%|██████████| 888/888 [01:58<00:00,  7.49it/s]\n",
      "Validation: 100%|██████████| 116/116 [00:06<00:00, 19.16it/s]\n"
     ]
    },
    {
     "name": "stdout",
     "output_type": "stream",
     "text": [
      "Training   - Loss: 0.0905\n",
      "Validation - Loss: 0.0618\n",
      "LR: 6.67e-04\n",
      "\n",
      "Epoch 3/5\n",
      "--------------------------------------------------\n"
     ]
    },
    {
     "name": "stderr",
     "output_type": "stream",
     "text": [
      "Training: 100%|██████████| 888/888 [01:58<00:00,  7.48it/s]\n",
      "Validation: 100%|██████████| 116/116 [00:06<00:00, 19.32it/s]\n"
     ]
    },
    {
     "name": "stdout",
     "output_type": "stream",
     "text": [
      "Training   - Loss: 0.0700\n",
      "Validation - Loss: 0.0548\n",
      "LR: 4.44e-04\n",
      "\n",
      "Epoch 4/5\n",
      "--------------------------------------------------\n"
     ]
    },
    {
     "name": "stderr",
     "output_type": "stream",
     "text": [
      "Training: 100%|██████████| 888/888 [01:58<00:00,  7.47it/s]\n",
      "Validation: 100%|██████████| 116/116 [00:06<00:00, 19.28it/s]\n"
     ]
    },
    {
     "name": "stdout",
     "output_type": "stream",
     "text": [
      "Training   - Loss: 0.0606\n",
      "Validation - Loss: 0.0509\n",
      "LR: 2.22e-04\n",
      "\n",
      "Epoch 5/5\n",
      "--------------------------------------------------\n"
     ]
    },
    {
     "name": "stderr",
     "output_type": "stream",
     "text": [
      "Training: 100%|██████████| 888/888 [01:58<00:00,  7.48it/s]\n",
      "Validation: 100%|██████████| 116/116 [00:06<00:00, 19.03it/s]\n"
     ]
    },
    {
     "name": "stdout",
     "output_type": "stream",
     "text": [
      "Training   - Loss: 0.0553\n",
      "Validation - Loss: 0.0499\n",
      "LR: 0.00e+00\n"
     ]
    }
   ],
   "source": [
    "action_model = train_model(\n",
    "    action_model,\n",
    "    optimizer,\n",
    "    scheduler,\n",
    "    train_loader_action,\n",
    "    valid_loader_action,\n",
    "    num_epochs=num_epochs,\n",
    "    device=DEVICE,\n",
    "    save=\"../../models/multixoz_action_model.pth\"\n",
    ")"
   ]
  },
  {
   "cell_type": "code",
   "execution_count": 10,
   "id": "c7cfefb9",
   "metadata": {},
   "outputs": [
    {
     "name": "stdout",
     "output_type": "stream",
     "text": [
      "User Inputs: SYS: I have several options for you; do you prefer African, Asian, or British food? USER: Any sort of food would be fine, as long as it is a bit expensive. Could I get the phone number for your recommendation? SYS: There is an Afrian place named Bedouin in the centre. How does that sound? USER: Sounds good, could I get that phone number? Also, could you recommend me an expensive hotel? SYS: Bedouin's phone is 01223367660. As far as hotels go, I recommend the University Arms Hotel in the center of town.\n",
      "Generated Action: Restaurant-Inform(food=Afrian, name=Afrian)\n",
      "True Action: Hotel-Recommend(area=center of town, name=the University Arms Hotel) | Restaurant-Inform(name=Bedouin, phone=01223367660)\n"
     ]
    }
   ],
   "source": [
    "index = 2\n",
    "inputs = train_action_dataset.inputs[index]\n",
    "\n",
    "generated_action = inference_model(\n",
    "    action_model,\n",
    "    tokenizer,\n",
    "    inputs,\n",
    "    MAX_LENGTH_ACTION,\n",
    "    DEVICE\n",
    ")\n",
    "\n",
    "print(\"User Inputs:\", inputs)\n",
    "print(\"Generated Action:\", generated_action)\n",
    "print(\"True Action:\", train_action_dataset.actions[index])"
   ]
  },
  {
   "cell_type": "code",
   "execution_count": null,
   "id": "437600d7",
   "metadata": {},
   "outputs": [],
   "source": []
  }
 ],
 "metadata": {
  "kernelspec": {
   "display_name": ".venv",
   "language": "python",
   "name": "python3"
  },
  "language_info": {
   "codemirror_mode": {
    "name": "ipython",
    "version": 3
   },
   "file_extension": ".py",
   "mimetype": "text/x-python",
   "name": "python",
   "nbconvert_exporter": "python",
   "pygments_lexer": "ipython3",
   "version": "3.10.12"
  }
 },
 "nbformat": 4,
 "nbformat_minor": 5
}
